{
 "cells": [
  {
   "cell_type": "markdown",
   "metadata": {},
   "source": [
    "# WeatherPy\n",
    "----\n",
    "\n",
    "#### Note\n",
    "* Instructions have been included for each segment. You do not have to follow them exactly, but they are included to help you think through the steps."
   ]
  },
  {
   "cell_type": "code",
   "execution_count": 1,
   "metadata": {
    "scrolled": true
   },
   "outputs": [],
   "source": [
    "import matplotlib.pyplot as plt\n",
    "from scipy import stats\n",
    "import gmaps\n",
    "from api_keys import g_key\n",
    "from api_keys import weather_api_key\n",
    "import pandas as pd\n",
    "from citipy import citipy\n",
    "import requests\n",
    "import numpy as np\n",
    "import json\n",
    "\n",
    "#import os\n",
    "#output_data_file = \"output_data/cities.csv\"\n",
    "\n",
    "#gmaps.configure(api_key=g_key)"
   ]
  },
  {
   "cell_type": "markdown",
   "metadata": {},
   "source": [
    "## Generate Cities List"
   ]
  },
  {
   "cell_type": "code",
   "execution_count": 2,
   "metadata": {},
   "outputs": [
    {
     "data": {
      "text/html": [
       "<div>\n",
       "<style scoped>\n",
       "    .dataframe tbody tr th:only-of-type {\n",
       "        vertical-align: middle;\n",
       "    }\n",
       "\n",
       "    .dataframe tbody tr th {\n",
       "        vertical-align: top;\n",
       "    }\n",
       "\n",
       "    .dataframe thead th {\n",
       "        text-align: right;\n",
       "    }\n",
       "</style>\n",
       "<table border=\"1\" class=\"dataframe\">\n",
       "  <thead>\n",
       "    <tr style=\"text-align: right;\">\n",
       "      <th></th>\n",
       "      <th>Latitude</th>\n",
       "      <th>Longitude</th>\n",
       "    </tr>\n",
       "  </thead>\n",
       "  <tbody>\n",
       "    <tr>\n",
       "      <th>0</th>\n",
       "      <td>44.297149</td>\n",
       "      <td>-70.995373</td>\n",
       "    </tr>\n",
       "    <tr>\n",
       "      <th>1</th>\n",
       "      <td>41.630067</td>\n",
       "      <td>122.531440</td>\n",
       "    </tr>\n",
       "    <tr>\n",
       "      <th>2</th>\n",
       "      <td>6.402534</td>\n",
       "      <td>-88.294365</td>\n",
       "    </tr>\n",
       "    <tr>\n",
       "      <th>3</th>\n",
       "      <td>-17.854870</td>\n",
       "      <td>-103.980021</td>\n",
       "    </tr>\n",
       "    <tr>\n",
       "      <th>4</th>\n",
       "      <td>22.830352</td>\n",
       "      <td>-120.101012</td>\n",
       "    </tr>\n",
       "    <tr>\n",
       "      <th>...</th>\n",
       "      <td>...</td>\n",
       "      <td>...</td>\n",
       "    </tr>\n",
       "    <tr>\n",
       "      <th>1395</th>\n",
       "      <td>-11.556778</td>\n",
       "      <td>-120.484540</td>\n",
       "    </tr>\n",
       "    <tr>\n",
       "      <th>1396</th>\n",
       "      <td>-85.176484</td>\n",
       "      <td>-27.841592</td>\n",
       "    </tr>\n",
       "    <tr>\n",
       "      <th>1397</th>\n",
       "      <td>-16.741025</td>\n",
       "      <td>41.879498</td>\n",
       "    </tr>\n",
       "    <tr>\n",
       "      <th>1398</th>\n",
       "      <td>-4.991837</td>\n",
       "      <td>-143.876357</td>\n",
       "    </tr>\n",
       "    <tr>\n",
       "      <th>1399</th>\n",
       "      <td>-6.691834</td>\n",
       "      <td>-34.552141</td>\n",
       "    </tr>\n",
       "  </tbody>\n",
       "</table>\n",
       "<p>1400 rows × 2 columns</p>\n",
       "</div>"
      ],
      "text/plain": [
       "       Latitude   Longitude\n",
       "0     44.297149  -70.995373\n",
       "1     41.630067  122.531440\n",
       "2      6.402534  -88.294365\n",
       "3    -17.854870 -103.980021\n",
       "4     22.830352 -120.101012\n",
       "...         ...         ...\n",
       "1395 -11.556778 -120.484540\n",
       "1396 -85.176484  -27.841592\n",
       "1397 -16.741025   41.879498\n",
       "1398  -4.991837 -143.876357\n",
       "1399  -6.691834  -34.552141\n",
       "\n",
       "[1400 rows x 2 columns]"
      ]
     },
     "execution_count": 2,
     "metadata": {},
     "output_type": "execute_result"
    }
   ],
   "source": [
    "#Latitude (-90,90) / Longitude (-180,180), 1400 random points\n",
    "\n",
    "rnd_lng = np.random.uniform(-180,180,1400)\n",
    "rnd_lat = np.random.uniform(-90,90,1400)\n",
    "\n",
    "random_points_df = pd.DataFrame({\"Latitude\":rnd_lat,\n",
    "                          \"Longitude\":rnd_lng})\n",
    "random_points_df\n"
   ]
  },
  {
   "cell_type": "code",
   "execution_count": 3,
   "metadata": {},
   "outputs": [
    {
     "data": {
      "text/html": [
       "<div>\n",
       "<style scoped>\n",
       "    .dataframe tbody tr th:only-of-type {\n",
       "        vertical-align: middle;\n",
       "    }\n",
       "\n",
       "    .dataframe tbody tr th {\n",
       "        vertical-align: top;\n",
       "    }\n",
       "\n",
       "    .dataframe thead th {\n",
       "        text-align: right;\n",
       "    }\n",
       "</style>\n",
       "<table border=\"1\" class=\"dataframe\">\n",
       "  <thead>\n",
       "    <tr style=\"text-align: right;\">\n",
       "      <th></th>\n",
       "      <th>Latitude</th>\n",
       "      <th>Longitude</th>\n",
       "      <th>City</th>\n",
       "    </tr>\n",
       "  </thead>\n",
       "  <tbody>\n",
       "    <tr>\n",
       "      <th>0</th>\n",
       "      <td>44.297149</td>\n",
       "      <td>-70.995373</td>\n",
       "      <td>berlin</td>\n",
       "    </tr>\n",
       "    <tr>\n",
       "      <th>1</th>\n",
       "      <td>41.630067</td>\n",
       "      <td>122.531440</td>\n",
       "      <td>liaozhong</td>\n",
       "    </tr>\n",
       "    <tr>\n",
       "      <th>2</th>\n",
       "      <td>6.402534</td>\n",
       "      <td>-88.294365</td>\n",
       "      <td>nicoya</td>\n",
       "    </tr>\n",
       "    <tr>\n",
       "      <th>3</th>\n",
       "      <td>-17.854870</td>\n",
       "      <td>-103.980021</td>\n",
       "      <td>puerto ayora</td>\n",
       "    </tr>\n",
       "    <tr>\n",
       "      <th>4</th>\n",
       "      <td>22.830352</td>\n",
       "      <td>-120.101012</td>\n",
       "      <td>guerrero negro</td>\n",
       "    </tr>\n",
       "    <tr>\n",
       "      <th>...</th>\n",
       "      <td>...</td>\n",
       "      <td>...</td>\n",
       "      <td>...</td>\n",
       "    </tr>\n",
       "    <tr>\n",
       "      <th>1395</th>\n",
       "      <td>-11.556778</td>\n",
       "      <td>-120.484540</td>\n",
       "      <td>rikitea</td>\n",
       "    </tr>\n",
       "    <tr>\n",
       "      <th>1396</th>\n",
       "      <td>-85.176484</td>\n",
       "      <td>-27.841592</td>\n",
       "      <td>ushuaia</td>\n",
       "    </tr>\n",
       "    <tr>\n",
       "      <th>1397</th>\n",
       "      <td>-16.741025</td>\n",
       "      <td>41.879498</td>\n",
       "      <td>angoche</td>\n",
       "    </tr>\n",
       "    <tr>\n",
       "      <th>1398</th>\n",
       "      <td>-4.991837</td>\n",
       "      <td>-143.876357</td>\n",
       "      <td>atuona</td>\n",
       "    </tr>\n",
       "    <tr>\n",
       "      <th>1399</th>\n",
       "      <td>-6.691834</td>\n",
       "      <td>-34.552141</td>\n",
       "      <td>cabedelo</td>\n",
       "    </tr>\n",
       "  </tbody>\n",
       "</table>\n",
       "<p>1400 rows × 3 columns</p>\n",
       "</div>"
      ],
      "text/plain": [
       "       Latitude   Longitude            City\n",
       "0     44.297149  -70.995373          berlin\n",
       "1     41.630067  122.531440       liaozhong\n",
       "2      6.402534  -88.294365          nicoya\n",
       "3    -17.854870 -103.980021    puerto ayora\n",
       "4     22.830352 -120.101012  guerrero negro\n",
       "...         ...         ...             ...\n",
       "1395 -11.556778 -120.484540         rikitea\n",
       "1396 -85.176484  -27.841592         ushuaia\n",
       "1397 -16.741025   41.879498         angoche\n",
       "1398  -4.991837 -143.876357          atuona\n",
       "1399  -6.691834  -34.552141        cabedelo\n",
       "\n",
       "[1400 rows x 3 columns]"
      ]
     },
     "execution_count": 3,
     "metadata": {},
     "output_type": "execute_result"
    }
   ],
   "source": [
    "city = []\n",
    "\n",
    "#Find nearest city\n",
    "for i in range(0,len(random_points_df['Latitude'])):\n",
    "    city_current = citipy.nearest_city(random_points_df.iloc[i]['Latitude'],random_points_df.iloc[i]['Longitude']).city_name\n",
    "    city.append(city_current)\n",
    "   \n",
    "random_points_df['City'] = city\n",
    "random_points_df"
   ]
  },
  {
   "cell_type": "code",
   "execution_count": 4,
   "metadata": {},
   "outputs": [
    {
     "data": {
      "text/html": [
       "<div>\n",
       "<style scoped>\n",
       "    .dataframe tbody tr th:only-of-type {\n",
       "        vertical-align: middle;\n",
       "    }\n",
       "\n",
       "    .dataframe tbody tr th {\n",
       "        vertical-align: top;\n",
       "    }\n",
       "\n",
       "    .dataframe thead th {\n",
       "        text-align: right;\n",
       "    }\n",
       "</style>\n",
       "<table border=\"1\" class=\"dataframe\">\n",
       "  <thead>\n",
       "    <tr style=\"text-align: right;\">\n",
       "      <th></th>\n",
       "      <th>Latitude</th>\n",
       "      <th>Longitude</th>\n",
       "    </tr>\n",
       "    <tr>\n",
       "      <th>City</th>\n",
       "      <th></th>\n",
       "      <th></th>\n",
       "    </tr>\n",
       "  </thead>\n",
       "  <tbody>\n",
       "    <tr>\n",
       "      <th>abaza</th>\n",
       "      <td>1</td>\n",
       "      <td>1</td>\n",
       "    </tr>\n",
       "    <tr>\n",
       "      <th>aberdeen</th>\n",
       "      <td>1</td>\n",
       "      <td>1</td>\n",
       "    </tr>\n",
       "    <tr>\n",
       "      <th>acajutla</th>\n",
       "      <td>1</td>\n",
       "      <td>1</td>\n",
       "    </tr>\n",
       "    <tr>\n",
       "      <th>acarau</th>\n",
       "      <td>1</td>\n",
       "      <td>1</td>\n",
       "    </tr>\n",
       "    <tr>\n",
       "      <th>adrar</th>\n",
       "      <td>1</td>\n",
       "      <td>1</td>\n",
       "    </tr>\n",
       "    <tr>\n",
       "      <th>...</th>\n",
       "      <td>...</td>\n",
       "      <td>...</td>\n",
       "    </tr>\n",
       "    <tr>\n",
       "      <th>zambezi</th>\n",
       "      <td>1</td>\n",
       "      <td>1</td>\n",
       "    </tr>\n",
       "    <tr>\n",
       "      <th>zapolyarnyy</th>\n",
       "      <td>1</td>\n",
       "      <td>1</td>\n",
       "    </tr>\n",
       "    <tr>\n",
       "      <th>zhangjiakou</th>\n",
       "      <td>1</td>\n",
       "      <td>1</td>\n",
       "    </tr>\n",
       "    <tr>\n",
       "      <th>zhoucheng</th>\n",
       "      <td>1</td>\n",
       "      <td>1</td>\n",
       "    </tr>\n",
       "    <tr>\n",
       "      <th>zhuhai</th>\n",
       "      <td>1</td>\n",
       "      <td>1</td>\n",
       "    </tr>\n",
       "  </tbody>\n",
       "</table>\n",
       "<p>606 rows × 2 columns</p>\n",
       "</div>"
      ],
      "text/plain": [
       "             Latitude  Longitude\n",
       "City                            \n",
       "abaza               1          1\n",
       "aberdeen            1          1\n",
       "acajutla            1          1\n",
       "acarau              1          1\n",
       "adrar               1          1\n",
       "...               ...        ...\n",
       "zambezi             1          1\n",
       "zapolyarnyy         1          1\n",
       "zhangjiakou         1          1\n",
       "zhoucheng           1          1\n",
       "zhuhai              1          1\n",
       "\n",
       "[606 rows x 2 columns]"
      ]
     },
     "execution_count": 4,
     "metadata": {},
     "output_type": "execute_result"
    }
   ],
   "source": [
    "random_points_df.groupby(\"City\").count()"
   ]
  },
  {
   "cell_type": "code",
   "execution_count": 5,
   "metadata": {},
   "outputs": [
    {
     "data": {
      "text/plain": [
       "606"
      ]
     },
     "execution_count": 5,
     "metadata": {},
     "output_type": "execute_result"
    }
   ],
   "source": [
    "cities_df = random_points_df.drop_duplicates(\"City\", keep=\"first\")\n",
    "cities_df\n",
    "total_cities =len(cities_df)\n",
    "total_cities\n",
    "#Had to go back and add more cities to start with - first total after dropping duplicates was 328 cities (need 500+)"
   ]
  },
  {
   "cell_type": "markdown",
   "metadata": {},
   "source": [
    "### Perform API Calls\n",
    "* Perform a weather check on each city using a series of successive API calls.\n",
    "* Include a print log of each city as it'sbeing processed (with the city number and city name).\n"
   ]
  },
  {
   "cell_type": "code",
   "execution_count": 9,
   "metadata": {
    "scrolled": true
   },
   "outputs": [
    {
     "name": "stdout",
     "output_type": "stream",
     "text": [
      "Processing record : berlin\n",
      "Processing record : liaozhong\n",
      "Processing record : nicoya\n",
      "Processing record : puerto ayora\n",
      "Processing record : guerrero negro\n",
      "Processing record : los llanos de aridane\n",
      "Processing record : la rioja\n",
      "Processing record : esperance\n",
      "Processing record : verkhoyansk\n",
      "Processing record : putyatino\n",
      "Processing record : tuktoyaktuk\n",
      "Processing record : jamestown\n",
      "Processing record : salta\n",
      "Processing record : akyab\n",
      "Processing record : busselton\n",
      "Processing record : kodiak\n",
      "Processing record : leningradskiy\n",
      "Processing record : yellowknife\n",
      "Processing record : marataizes\n",
      "Processing record : georgetown\n",
      "Processing record : coquimbo\n",
      "Processing record : ust-uda\n",
      "Processing record : mataura\n",
      "City not found. Skipping..\n",
      "Processing record : vaini\n",
      "Processing record : berlevag\n",
      "Processing record : madimba\n",
      "Processing record : gao\n",
      "Processing record : omis\n",
      "Processing record : muravlenko\n",
      "City not found. Skipping..\n",
      "Processing record : rikitea\n",
      "Processing record : qaanaaq\n",
      "Processing record : albany\n",
      "Processing record : ushuaia\n",
      "City not found. Skipping..\n",
      "Processing record : antalaha\n",
      "Processing record : itarema\n",
      "Processing record : monywa\n",
      "Processing record : longyearbyen\n",
      "Processing record : lahij\n",
      "Processing record : seymchan\n",
      "Processing record : punta arenas\n",
      "Processing record : cherskiy\n",
      "Processing record : moose factory\n",
      "Processing record : port augusta\n",
      "Processing record : sayyan\n",
      "Processing record : maldonado\n",
      "Processing record : vila velha\n",
      "Processing record : khatanga\n",
      "Processing record : san rafael\n",
      "Processing record : juegang\n",
      "Processing record : port lincoln\n",
      "Processing record : sivas\n",
      "Processing record : katsuura\n",
      "Processing record : pitimbu\n",
      "Processing record : narsaq\n",
      "Processing record : coihaique\n",
      "Processing record : saint anthony\n",
      "Processing record : chokurdakh\n",
      "Processing record : thompson\n",
      "Processing record : ilulissat\n",
      "City not found. Skipping..\n",
      "Processing record : hermanus\n",
      "City not found. Skipping..\n",
      "Processing record : klaksvik\n",
      "Processing record : geraldton\n",
      "Processing record : santa rosa\n",
      "Processing record : tucupita\n",
      "Processing record : nanortalik\n",
      "Processing record : east london\n",
      "City not found. Skipping..\n",
      "Processing record : bluff\n",
      "Processing record : iqaluit\n",
      "Processing record : arraial do cabo\n",
      "Processing record : great yarmouth\n",
      "Processing record : butaritari\n",
      "Processing record : severo-yeniseyskiy\n",
      "City not found. Skipping..\n",
      "Processing record : new norfolk\n",
      "Processing record : hambantota\n",
      "Processing record : la mata\n",
      "City not found. Skipping..\n",
      "Processing record : puerto carreno\n",
      "Processing record : dunedin\n",
      "Processing record : arman\n",
      "Processing record : beringovskiy\n",
      "Processing record : ploiesti\n",
      "Processing record : hilo\n",
      "City not found. Skipping..\n",
      "Processing record : kaitangata\n",
      "Processing record : ulladulla\n",
      "Processing record : touros\n",
      "Processing record : hami\n",
      "Processing record : isangel\n",
      "City not found. Skipping..\n",
      "Processing record : fort nelson\n",
      "Processing record : paraiso\n",
      "Processing record : kirakira\n",
      "Processing record : togur\n",
      "Processing record : kanniyakumari\n",
      "Processing record : bandarbeyla\n",
      "Processing record : bilibino\n",
      "Processing record : hobart\n",
      "Processing record : novikovo\n",
      "Processing record : cape town\n",
      "Processing record : barrow\n",
      "Processing record : kaset sombun\n",
      "Processing record : sagua la grande\n",
      "City not found. Skipping..\n",
      "Processing record : culpeper\n",
      "Processing record : mazagao\n",
      "Processing record : lisala\n",
      "Processing record : zambezi\n",
      "Processing record : vao\n",
      "Processing record : port elizabeth\n",
      "Processing record : saint-philippe\n",
      "Processing record : nouadhibou\n",
      "Processing record : maputo\n",
      "Processing record : danjiangkou\n",
      "Processing record : la lira\n",
      "Processing record : victoria\n",
      "Processing record : mehran\n",
      "Processing record : moerai\n",
      "Processing record : sukumo\n",
      "City not found. Skipping..\n",
      "City not found. Skipping..\n",
      "Processing record : savonlinna\n",
      "City not found. Skipping..\n",
      "Processing record : scarborough\n",
      "Processing record : nome\n",
      "Processing record : cockburn town\n",
      "Processing record : upernavik\n",
      "Processing record : faanui\n",
      "Processing record : turukhansk\n",
      "Processing record : boca do acre\n",
      "Processing record : mar del plata\n",
      "Processing record : castro\n",
      "Processing record : warrington\n",
      "Processing record : taltal\n",
      "Processing record : gobabis\n",
      "Processing record : grand gaube\n",
      "Processing record : hearst\n",
      "Processing record : airai\n",
      "Processing record : atuona\n",
      "Processing record : savinka\n",
      "Processing record : padang\n",
      "Processing record : kankon\n",
      "Processing record : karpathos\n",
      "Processing record : lamu\n",
      "Processing record : sao joao da barra\n",
      "Processing record : mahibadhoo\n",
      "City not found. Skipping..\n",
      "Processing record : cochrane\n",
      "Processing record : cabo san lucas\n",
      "Processing record : saint george\n",
      "Processing record : carnarvon\n",
      "Processing record : nikolskoye\n",
      "Processing record : hit\n",
      "City not found. Skipping..\n",
      "Processing record : lebu\n",
      "Processing record : asau\n",
      "Processing record : severo-kurilsk\n",
      "Processing record : sept-iles\n",
      "Processing record : sao jose da coroa grande\n",
      "Processing record : te karaka\n",
      "Processing record : kavaratti\n",
      "Processing record : fort saint james\n",
      "Processing record : namibe\n",
      "Processing record : udachnyy\n",
      "Processing record : tasiilaq\n",
      "Processing record : olinda\n",
      "Processing record : pangnirtung\n",
      "Processing record : dhidhdhoo\n",
      "Processing record : portland\n",
      "Processing record : tautira\n",
      "Processing record : bethel\n",
      "Processing record : dwarka\n",
      "City not found. Skipping..\n",
      "Processing record : lashio\n",
      "Processing record : kondinskoye\n",
      "Processing record : nakkila\n",
      "Processing record : liverpool\n",
      "Processing record : talnakh\n",
      "Processing record : san antonio\n",
      "Processing record : baruun-urt\n",
      "Processing record : kaputa\n",
      "Processing record : rongcheng\n",
      "Processing record : manavalakurichi\n",
      "City not found. Skipping..\n",
      "Processing record : honningsvag\n",
      "Processing record : bredasdorp\n",
      "Processing record : clyde river\n",
      "Processing record : norman wells\n",
      "Processing record : saskylakh\n",
      "Processing record : yeppoon\n",
      "Processing record : iracoubo\n",
      "Processing record : beira\n",
      "Processing record : bubaque\n",
      "Processing record : ekhabi\n",
      "Processing record : ibirataia\n",
      "Processing record : chuy\n",
      "Processing record : sambava\n",
      "Processing record : gabu\n",
      "Processing record : umtata\n",
      "Processing record : sayat\n",
      "Processing record : santa cruz\n",
      "Processing record : alofi\n",
      "City not found. Skipping..\n",
      "Processing record : vorkuta\n",
      "Processing record : cidreira\n",
      "Processing record : broome\n",
      "Processing record : sangar\n",
      "Processing record : gat\n",
      "Processing record : nantucket\n",
      "Processing record : havre-saint-pierre\n",
      "Processing record : monrovia\n",
      "Processing record : hithadhoo\n",
      "Processing record : pevek\n",
      "Processing record : honolulu\n",
      "Processing record : port alfred\n",
      "Processing record : ribeira grande\n",
      "Processing record : avarua\n",
      "Processing record : cayenne\n",
      "Processing record : pisco\n",
      "Processing record : laguna\n",
      "Processing record : palu\n",
      "Processing record : podporozhye\n",
      "City not found. Skipping..\n",
      "Processing record : eidfjord\n",
      "Processing record : fairbanks\n",
      "Processing record : hirado\n",
      "Processing record : bosobolo\n",
      "Processing record : pacific grove\n",
      "Processing record : careiro da varzea\n",
      "Processing record : egvekinot\n",
      "Processing record : nova odesa\n",
      "Processing record : siniscola\n",
      "City not found. Skipping..\n",
      "Processing record : adwa\n",
      "Processing record : sola\n",
      "Processing record : hovd\n",
      "Processing record : kudahuvadhoo\n",
      "City not found. Skipping..\n",
      "Processing record : bengkulu\n",
      "Processing record : bambous virieux\n",
      "Processing record : luanda\n",
      "Processing record : lompoc\n",
      "City not found. Skipping..\n",
      "Processing record : havoysund\n",
      "Processing record : ilinskiy\n",
      "Processing record : pochutla\n",
      "Processing record : mastic\n",
      "Processing record : nishihara\n",
      "Processing record : loiza\n",
      "Processing record : ormara\n",
      "Processing record : treinta y tres\n",
      "Processing record : san jose\n",
      "Processing record : yumen\n",
      "Processing record : mahebourg\n",
      "Processing record : hof\n",
      "Processing record : ancud\n",
      "Processing record : tarakan\n",
      "Processing record : kapaa\n",
      "Processing record : yakeshi\n",
      "Processing record : ariquemes\n",
      "Processing record : newtownards\n",
      "Processing record : atasu\n",
      "City not found. Skipping..\n",
      "Processing record : kollo\n",
      "Processing record : nalut\n",
      "Processing record : krasnoselkup\n",
      "Processing record : oxelosund\n",
      "Processing record : panaba\n",
      "Processing record : eyrarbakki\n",
      "Processing record : harsud\n",
      "Processing record : lazaro cardenas\n",
      "Processing record : porbandar\n",
      "Processing record : olden\n",
      "Processing record : sumbe\n",
      "Processing record : aksarka\n"
     ]
    },
    {
     "name": "stdout",
     "output_type": "stream",
     "text": [
      "Processing record : salmas\n",
      "Processing record : wanaka\n",
      "Processing record : san patricio\n",
      "Processing record : remedios\n",
      "Processing record : santo anastacio\n",
      "Processing record : rio grande\n",
      "Processing record : ryotsu\n",
      "Processing record : baherden\n",
      "Processing record : galle\n",
      "Processing record : peniche\n",
      "Processing record : mitu\n",
      "Processing record : terney\n",
      "Processing record : werda\n",
      "Processing record : ust-nera\n",
      "Processing record : dudinka\n",
      "City not found. Skipping..\n",
      "City not found. Skipping..\n",
      "Processing record : nordby\n",
      "Processing record : arco\n",
      "Processing record : daryapur\n",
      "Processing record : seoul\n",
      "Processing record : souillac\n",
      "Processing record : camopi\n",
      "Processing record : manggar\n",
      "Processing record : biltine\n",
      "Processing record : vestmannaeyjar\n",
      "Processing record : abaza\n",
      "Processing record : cartagena\n",
      "Processing record : pacifica\n",
      "Processing record : san vicente\n",
      "Processing record : nelson bay\n",
      "Processing record : provideniya\n",
      "Processing record : hualmay\n",
      "Processing record : shizuishan\n",
      "Processing record : nuuk\n",
      "Processing record : oriximina\n",
      "Processing record : nyurba\n",
      "Processing record : naze\n",
      "City not found. Skipping..\n",
      "Processing record : royan\n",
      "Processing record : almeirim\n",
      "Processing record : rawah\n",
      "City not found. Skipping..\n",
      "Processing record : ilhabela\n",
      "Processing record : sandnessjoen\n",
      "Processing record : lavrentiya\n",
      "Processing record : mardin\n",
      "Processing record : crossfield\n",
      "Processing record : tiksi\n",
      "Processing record : bandung\n",
      "Processing record : tuatapere\n",
      "Processing record : taunggyi\n",
      "Processing record : kavieng\n",
      "Processing record : bose\n",
      "Processing record : calabozo\n",
      "Processing record : san isidro\n",
      "Processing record : marang\n",
      "Processing record : sur\n",
      "Processing record : mnogovershinnyy\n",
      "Processing record : hosakote\n",
      "Processing record : kashi\n",
      "Processing record : komsomolskiy\n",
      "Processing record : torbay\n",
      "Processing record : yulara\n",
      "Processing record : dumbrava rosie\n",
      "Processing record : saumur\n",
      "Processing record : olga\n",
      "Processing record : bozdar\n",
      "Processing record : novozybkov\n",
      "Processing record : ust-kan\n",
      "Processing record : clive\n",
      "Processing record : dalbandin\n",
      "Processing record : lasa\n",
      "Processing record : channel-port aux basques\n",
      "Processing record : cagsiay\n",
      "Processing record : codrington\n",
      "Processing record : bismarck\n",
      "Processing record : namanga\n",
      "Processing record : madawaska\n",
      "Processing record : katiola\n",
      "Processing record : san angelo\n",
      "Processing record : saryozek\n",
      "Processing record : soni\n",
      "Processing record : biak\n",
      "Processing record : flinders\n",
      "Processing record : payson\n",
      "Processing record : kruisfontein\n",
      "Processing record : okhotsk\n",
      "Processing record : muros\n",
      "Processing record : asyut\n",
      "Processing record : otradnoye\n",
      "Processing record : puerto gaitan\n",
      "Processing record : dickinson\n",
      "Processing record : emba\n",
      "Processing record : palmer\n",
      "Processing record : chimbote\n",
      "Processing record : boueni\n",
      "Processing record : rapar\n",
      "City not found. Skipping..\n",
      "Processing record : comodoro rivadavia\n",
      "Processing record : besikduzu\n",
      "Processing record : encantado\n",
      "Processing record : kapit\n",
      "Processing record : imeni poliny osipenko\n",
      "Processing record : beirut\n",
      "Processing record : kokopo\n",
      "Processing record : soria\n",
      "Processing record : nioro\n",
      "Processing record : axim\n",
      "Processing record : riyadh\n",
      "Processing record : ouallam\n",
      "Processing record : zachepylivka\n",
      "Processing record : mastic beach\n",
      "Processing record : taft\n",
      "Processing record : port hedland\n",
      "Processing record : atar\n",
      "City not found. Skipping..\n",
      "Processing record : kefamenanu\n",
      "Processing record : roma\n",
      "Processing record : nemuro\n",
      "Processing record : saint-joseph\n",
      "Processing record : balkhash\n",
      "Processing record : vostok\n",
      "Processing record : nouakchott\n",
      "Processing record : manta\n",
      "Processing record : eresos\n",
      "Processing record : jackson\n",
      "Processing record : berdigestyakh\n",
      "Processing record : platonovka\n",
      "Processing record : banjar\n",
      "Processing record : yerbogachen\n",
      "City not found. Skipping..\n",
      "Processing record : sorland\n",
      "Processing record : normandin\n",
      "City not found. Skipping..\n",
      "Processing record : miri\n",
      "Processing record : ramnagar\n",
      "Processing record : kumhari\n",
      "Processing record : mongo\n",
      "Processing record : bayanday\n",
      "Processing record : fortuna\n",
      "Processing record : taungdwingyi\n",
      "Processing record : toora-khem\n",
      "Processing record : baykit\n",
      "Processing record : cervo\n",
      "Processing record : coahuayana\n",
      "Processing record : pedernales\n",
      "Processing record : tahlequah\n",
      "Processing record : salalah\n",
      "Processing record : itupiranga\n",
      "Processing record : kamenka\n",
      "Processing record : yatou\n",
      "Processing record : talgar\n",
      "Processing record : amalapuram\n",
      "City not found. Skipping..\n",
      "Processing record : margate\n",
      "Processing record : kieta\n",
      "Processing record : ponta do sol\n",
      "Processing record : pocatello\n",
      "Processing record : astoria\n",
      "Processing record : isny\n",
      "Processing record : la asuncion\n",
      "Processing record : saint-augustin\n",
      "Processing record : ust-shonosha\n",
      "Processing record : sao filipe\n",
      "City not found. Skipping..\n",
      "Processing record : bam\n",
      "Processing record : roald\n",
      "Processing record : mangai\n",
      "Processing record : maniwaki\n",
      "City not found. Skipping..\n",
      "Processing record : cruz alta\n",
      "Processing record : wasilla\n",
      "Processing record : zhangjiakou\n",
      "Processing record : sweetwater\n",
      "Processing record : hornepayne\n",
      "Processing record : kirsanov\n",
      "Processing record : nurobod\n",
      "Processing record : aklavik\n",
      "Processing record : humaita\n",
      "Processing record : doraville\n",
      "Processing record : albanel\n",
      "Processing record : mrakovo\n",
      "Processing record : bay roberts\n",
      "Processing record : anloga\n",
      "Processing record : puerto escondido\n",
      "Processing record : westport\n",
      "Processing record : russell\n",
      "Processing record : tarime\n",
      "Processing record : ongandjera\n",
      "Processing record : kisanga\n",
      "Processing record : staryy nadym\n",
      "Processing record : cuauhtemoc\n",
      "Processing record : snasa\n",
      "Processing record : lethbridge\n",
      "Processing record : araceli\n",
      "Processing record : samarai\n",
      "Processing record : porgera\n",
      "Processing record : boende\n",
      "Processing record : benguela\n",
      "City not found. Skipping..\n",
      "Processing record : teahupoo\n",
      "Processing record : ouahigouya\n",
      "Processing record : dubbo\n",
      "Processing record : araouane\n",
      "Processing record : pouebo\n",
      "Processing record : paka\n",
      "Processing record : nara\n",
      "Processing record : soyo\n",
      "Processing record : ustka\n",
      "Processing record : launceston\n",
      "Processing record : luderitz\n",
      "City not found. Skipping..\n",
      "Processing record : zhoucheng\n",
      "Processing record : te anau\n",
      "Processing record : puerto madryn\n",
      "Processing record : nanning\n",
      "Processing record : cove\n",
      "Processing record : vermillion\n",
      "Processing record : kalaleh\n",
      "Processing record : ulaanbaatar\n",
      "Processing record : gayeri\n",
      "Processing record : yar-sale\n",
      "Processing record : henties bay\n",
      "Processing record : nelidovo\n",
      "Processing record : hobyo\n",
      "Processing record : traverse city\n",
      "Processing record : dikson\n",
      "Processing record : andros town\n",
      "Processing record : oyama\n",
      "Processing record : rocha\n",
      "Processing record : adrar\n",
      "Processing record : vasterhaninge\n",
      "Processing record : huanuni\n",
      "City not found. Skipping..\n",
      "Processing record : silanga\n",
      "Processing record : kununurra\n",
      "City not found. Skipping..\n",
      "Processing record : ust-ilimsk\n",
      "Processing record : acarau\n",
      "Processing record : chicama\n",
      "Processing record : saint-etienne\n",
      "Processing record : jamkhed\n",
      "Processing record : constantine\n",
      "City not found. Skipping..\n",
      "Processing record : doka\n",
      "Processing record : flin flon\n",
      "Processing record : ghauspur\n",
      "Processing record : hvolsvollur\n",
      "Processing record : rawson\n",
      "Processing record : saldanha\n",
      "Processing record : aberdeen\n",
      "Processing record : novoseleznevo\n",
      "Processing record : poum\n",
      "Processing record : senador guiomard\n",
      "Processing record : tongren\n",
      "Processing record : manokwari\n",
      "Processing record : ostrovnoy\n",
      "Processing record : tura\n",
      "Processing record : iida\n",
      "Processing record : sao joao do piaui\n",
      "City not found. Skipping..\n",
      "Processing record : shenjiamen\n",
      "Processing record : sibolga\n",
      "Processing record : balfour\n",
      "Processing record : elko\n",
      "Processing record : turan\n",
      "Processing record : umm kaddadah\n",
      "Processing record : svetlyy\n",
      "Processing record : gouyave\n",
      "Processing record : yuzhno-kurilsk\n",
      "Processing record : hidas\n",
      "Processing record : trincomalee\n",
      "Processing record : aksha\n",
      "Processing record : rzhyshchiv\n",
      "Processing record : schweinfurt\n",
      "Processing record : caravelas\n",
      "Processing record : harnosand\n",
      "Processing record : itoman\n",
      "Processing record : serebryansk\n",
      "Processing record : onda\n",
      "Processing record : yamada\n",
      "Processing record : port hardy\n",
      "Processing record : bonavista\n",
      "Processing record : lodja\n"
     ]
    },
    {
     "name": "stdout",
     "output_type": "stream",
     "text": [
      "Processing record : viedma\n",
      "Processing record : buala\n",
      "Processing record : avera\n",
      "Processing record : mehamn\n",
      "Processing record : juneau\n",
      "Processing record : marawi\n",
      "Processing record : mercedes\n",
      "Processing record : ndele\n",
      "Processing record : louga\n",
      "Processing record : zapolyarnyy\n",
      "Processing record : vila franca do campo\n",
      "Processing record : nuevo progreso\n",
      "Processing record : bouca\n",
      "Processing record : altagracia de orituco\n",
      "Processing record : phonhong\n",
      "Processing record : takestan\n",
      "Processing record : aripuana\n",
      "Processing record : kysyl-syr\n",
      "Processing record : diamantino\n",
      "Processing record : zhuhai\n",
      "Processing record : khani\n",
      "City not found. Skipping..\n",
      "Processing record : kahului\n",
      "Processing record : acajutla\n",
      "City not found. Skipping..\n",
      "Processing record : wajir\n",
      "Processing record : micheweni\n",
      "Processing record : miles city\n",
      "Processing record : el colorado\n",
      "Processing record : lagoa\n",
      "Processing record : hasaki\n",
      "Processing record : mucurapo\n",
      "Processing record : poronaysk\n",
      "City not found. Skipping..\n",
      "Processing record : port keats\n",
      "City not found. Skipping..\n",
      "Processing record : batasan\n",
      "Processing record : nha trang\n",
      "Processing record : angoche\n",
      "Processing record : cabedelo\n"
     ]
    },
    {
     "name": "stderr",
     "output_type": "stream",
     "text": [
      "<ipython-input-9-19a958c17082>:59: SettingWithCopyWarning: \n",
      "A value is trying to be set on a copy of a slice from a DataFrame.\n",
      "Try using .loc[row_indexer,col_indexer] = value instead\n",
      "\n",
      "See the caveats in the documentation: https://pandas.pydata.org/pandas-docs/stable/user_guide/indexing.html#returning-a-view-versus-a-copy\n",
      "  cities_df[\"Latitude\"] = latitude\n",
      "<ipython-input-9-19a958c17082>:60: SettingWithCopyWarning: \n",
      "A value is trying to be set on a copy of a slice from a DataFrame.\n",
      "Try using .loc[row_indexer,col_indexer] = value instead\n",
      "\n",
      "See the caveats in the documentation: https://pandas.pydata.org/pandas-docs/stable/user_guide/indexing.html#returning-a-view-versus-a-copy\n",
      "  cities_df[\"Longitude\"] = longitude\n",
      "<ipython-input-9-19a958c17082>:63: SettingWithCopyWarning: \n",
      "A value is trying to be set on a copy of a slice from a DataFrame.\n",
      "Try using .loc[row_indexer,col_indexer] = value instead\n",
      "\n",
      "See the caveats in the documentation: https://pandas.pydata.org/pandas-docs/stable/user_guide/indexing.html#returning-a-view-versus-a-copy\n",
      "  cities_df[\"Temp\"] = temperature\n",
      "<ipython-input-9-19a958c17082>:64: SettingWithCopyWarning: \n",
      "A value is trying to be set on a copy of a slice from a DataFrame.\n",
      "Try using .loc[row_indexer,col_indexer] = value instead\n",
      "\n",
      "See the caveats in the documentation: https://pandas.pydata.org/pandas-docs/stable/user_guide/indexing.html#returning-a-view-versus-a-copy\n",
      "  cities_df[\"Humidity\"] = humidity\n",
      "<ipython-input-9-19a958c17082>:65: SettingWithCopyWarning: \n",
      "A value is trying to be set on a copy of a slice from a DataFrame.\n",
      "Try using .loc[row_indexer,col_indexer] = value instead\n",
      "\n",
      "See the caveats in the documentation: https://pandas.pydata.org/pandas-docs/stable/user_guide/indexing.html#returning-a-view-versus-a-copy\n",
      "  cities_df[\"Wind Speed\"] = wind_speed\n",
      "<ipython-input-9-19a958c17082>:66: SettingWithCopyWarning: \n",
      "A value is trying to be set on a copy of a slice from a DataFrame.\n",
      "Try using .loc[row_indexer,col_indexer] = value instead\n",
      "\n",
      "See the caveats in the documentation: https://pandas.pydata.org/pandas-docs/stable/user_guide/indexing.html#returning-a-view-versus-a-copy\n",
      "  cities_df[\"Cloudiness\"] = cloudiness\n",
      "<ipython-input-9-19a958c17082>:67: SettingWithCopyWarning: \n",
      "A value is trying to be set on a copy of a slice from a DataFrame.\n",
      "Try using .loc[row_indexer,col_indexer] = value instead\n",
      "\n",
      "See the caveats in the documentation: https://pandas.pydata.org/pandas-docs/stable/user_guide/indexing.html#returning-a-view-versus-a-copy\n",
      "  cities_df[\"Date\"] = dates\n"
     ]
    }
   ],
   "source": [
    "latitude = []\n",
    "longitude = []\n",
    "temperature = []\n",
    "humidity = []\n",
    "cloudiness = []\n",
    "wind_speed = []\n",
    "dates = []\n",
    "\n",
    "units = \"imperial\"\n",
    "\n",
    "url = \"http://api.openweathermap.org/data/2.5/weather?\"\n",
    "#city = (cities_df[\"City\"])\n",
    "#city_count = 1\n",
    "query_url = f\"{url}appid={weather_api_key}&units={units}&q=\"\n",
    "\n",
    "    \n",
    "for index, row in cities_df.iterrows():\n",
    "    currentcity = row[\"City\"]\n",
    "    response = requests.get(query_url + currentcity).json()\n",
    "\n",
    "    # if city is in the city list of wrapper then get the data otherwise print the message of missing city.\n",
    "    try:\n",
    "        temperature.append(response[\"main\"][\"temp_max\"])\n",
    "        latitude.append(response[\"coord\"][\"lat\"])\n",
    "        longitude.append(response[\"coord\"][\"lon\"])\n",
    "        humidity.append(response[\"main\"][\"humidity\"])\n",
    "        wind_speed.append(response[\"wind\"][\"speed\"])\n",
    "        cloudiness.append(response[\"clouds\"][\"all\"])\n",
    "        dates.append(response[\"dt\"])\n",
    "        print(f\"Processing record : {currentcity}\")\n",
    "    \n",
    "             # Some of the cities we generate don't have data in openweathermap, so set their values to numpy's NaN    \n",
    "    except KeyError:\n",
    "        temperature.append(np.nan)\n",
    "        latitude.append(np.nan)\n",
    "        longitude.append(np.nan)\n",
    "        humidity.append(np.nan)\n",
    "        wind_speed.append(np.nan)\n",
    "        cloudiness.append(np.nan)\n",
    "        dates.append(np.nan)\n",
    "        print(\"City not found. Skipping..\")    \n",
    "    \n",
    "    \n",
    "#update latitude and longitude to actually match the city\n",
    "# cities_df[\"Latitude\"] = latitude\n",
    "# cities_df[\"Longitude\"] = longitude\n",
    "\n",
    "# Assemble everything into a data frame\n",
    "# weather_df = pd.DataFrame({\"City\": cities.df[\"City\"],\n",
    "#                            \"Latitude\": latitude,\n",
    "#                            \"Longitude\": longitude,\n",
    "#                            \"Humidity\": humidity,\n",
    "#                            \"Max Temp\": temperature,\n",
    "#                            \"Cloudiness\": cloudiness,\n",
    "#                            \"Wind Speed\": wind_speed,\n",
    "#                            \"Date\": dates,\n",
    "#                           })\n",
    "#update latitude and longitude to actually match the city\n",
    "cities_df[\"Latitude\"] = latitude\n",
    "cities_df[\"Longitude\"] = longitude\n",
    "\n",
    "#add new information into the cities_df\n",
    "cities_df[\"Temp\"] = temperature\n",
    "cities_df[\"Humidity\"] = humidity\n",
    "cities_df[\"Wind Speed\"] = wind_speed\n",
    "cities_df[\"Cloudiness\"] = cloudiness\n",
    "cities_df[\"Date\"] = dates"
   ]
  },
  {
   "cell_type": "markdown",
   "metadata": {},
   "source": [
    "### Convert Raw Data to DataFrame\n",
    "* Export the city data into a .csv.\n",
    "* Display the DataFrame"
   ]
  },
  {
   "cell_type": "code",
   "execution_count": 105,
   "metadata": {},
   "outputs": [],
   "source": [
    "cities_df.head()\n",
    "#len(cities_df)\n",
    "import os\n",
    "import csv\n",
    "output_data_file = \"output_data/cities.csv\"\n",
    "cities_df.to_csv(output_data_file)\n"
   ]
  },
  {
   "cell_type": "code",
   "execution_count": 80,
   "metadata": {},
   "outputs": [
    {
     "data": {
      "text/plain": [
       "Latitude      561\n",
       "Longitude     561\n",
       "City          561\n",
       "Temp          561\n",
       "Humidity      561\n",
       "Wind Speed    561\n",
       "Cloudiness    561\n",
       "Date          561\n",
       "dtype: int64"
      ]
     },
     "execution_count": 80,
     "metadata": {},
     "output_type": "execute_result"
    }
   ],
   "source": [
    "#check for missing data\n",
    "cities_df.count()"
   ]
  },
  {
   "cell_type": "code",
   "execution_count": 25,
   "metadata": {},
   "outputs": [
    {
     "data": {
      "text/plain": [
       "Latitude      561\n",
       "Longitude     561\n",
       "City          561\n",
       "Temp          561\n",
       "Humidity      561\n",
       "Wind Speed    561\n",
       "Cloudiness    561\n",
       "Date          561\n",
       "dtype: int64"
      ]
     },
     "execution_count": 25,
     "metadata": {},
     "output_type": "execute_result"
    }
   ],
   "source": [
    "#Remove rows missing data\n",
    "clean_df = cities_df.dropna(how=\"any\")\n",
    "clean_df.count()"
   ]
  },
  {
   "cell_type": "markdown",
   "metadata": {},
   "source": [
    "## Inspect the data and remove the cities where the humidity > 100%.\n",
    "----\n",
    "Skip this step if there are no cities that have humidity > 100%. "
   ]
  },
  {
   "cell_type": "code",
   "execution_count": 30,
   "metadata": {},
   "outputs": [
    {
     "data": {
      "text/plain": [
       "Latitude      0\n",
       "Longitude     0\n",
       "City          0\n",
       "Temp          0\n",
       "Humidity      0\n",
       "Wind Speed    0\n",
       "Cloudiness    0\n",
       "Date          0\n",
       "dtype: int64"
      ]
     },
     "execution_count": 30,
     "metadata": {},
     "output_type": "execute_result"
    }
   ],
   "source": [
    "high_humidity = clean_df.loc[clean_df[\"Humidity\"]>100]\n",
    "high_humidity.count()\n",
    "#No cities with 100% humidity!"
   ]
  },
  {
   "cell_type": "code",
   "execution_count": null,
   "metadata": {},
   "outputs": [],
   "source": [
    "#  Get the indices of cities that have humidity over 100%.\n"
   ]
  },
  {
   "cell_type": "code",
   "execution_count": null,
   "metadata": {},
   "outputs": [],
   "source": [
    "# Make a new DataFrame equal to the city data to drop all humidity outliers by index.\n",
    "# Passing \"inplace=False\" will make a copy of the city_data DataFrame, which we call \"clean_city_data\".\n"
   ]
  },
  {
   "cell_type": "code",
   "execution_count": 31,
   "metadata": {},
   "outputs": [
    {
     "data": {
      "text/html": [
       "<div>\n",
       "<style scoped>\n",
       "    .dataframe tbody tr th:only-of-type {\n",
       "        vertical-align: middle;\n",
       "    }\n",
       "\n",
       "    .dataframe tbody tr th {\n",
       "        vertical-align: top;\n",
       "    }\n",
       "\n",
       "    .dataframe thead th {\n",
       "        text-align: right;\n",
       "    }\n",
       "</style>\n",
       "<table border=\"1\" class=\"dataframe\">\n",
       "  <thead>\n",
       "    <tr style=\"text-align: right;\">\n",
       "      <th></th>\n",
       "      <th>Latitude</th>\n",
       "      <th>Longitude</th>\n",
       "      <th>City</th>\n",
       "      <th>Temp</th>\n",
       "      <th>Humidity</th>\n",
       "      <th>Wind Speed</th>\n",
       "      <th>Cloudiness</th>\n",
       "      <th>Date</th>\n",
       "    </tr>\n",
       "  </thead>\n",
       "  <tbody>\n",
       "    <tr>\n",
       "      <th>0</th>\n",
       "      <td>52.52</td>\n",
       "      <td>13.41</td>\n",
       "      <td>berlin</td>\n",
       "      <td>57.20</td>\n",
       "      <td>93.0</td>\n",
       "      <td>13.87</td>\n",
       "      <td>75.0</td>\n",
       "      <td>1.604077e+09</td>\n",
       "    </tr>\n",
       "    <tr>\n",
       "      <th>1</th>\n",
       "      <td>41.51</td>\n",
       "      <td>122.72</td>\n",
       "      <td>liaozhong</td>\n",
       "      <td>41.00</td>\n",
       "      <td>48.0</td>\n",
       "      <td>4.47</td>\n",
       "      <td>0.0</td>\n",
       "      <td>1.604077e+09</td>\n",
       "    </tr>\n",
       "    <tr>\n",
       "      <th>2</th>\n",
       "      <td>10.15</td>\n",
       "      <td>-85.45</td>\n",
       "      <td>nicoya</td>\n",
       "      <td>84.20</td>\n",
       "      <td>79.0</td>\n",
       "      <td>6.93</td>\n",
       "      <td>40.0</td>\n",
       "      <td>1.604077e+09</td>\n",
       "    </tr>\n",
       "    <tr>\n",
       "      <th>3</th>\n",
       "      <td>-0.74</td>\n",
       "      <td>-90.35</td>\n",
       "      <td>puerto ayora</td>\n",
       "      <td>78.80</td>\n",
       "      <td>69.0</td>\n",
       "      <td>19.46</td>\n",
       "      <td>40.0</td>\n",
       "      <td>1.604077e+09</td>\n",
       "    </tr>\n",
       "    <tr>\n",
       "      <th>4</th>\n",
       "      <td>27.98</td>\n",
       "      <td>-114.06</td>\n",
       "      <td>guerrero negro</td>\n",
       "      <td>74.86</td>\n",
       "      <td>37.0</td>\n",
       "      <td>2.28</td>\n",
       "      <td>24.0</td>\n",
       "      <td>1.604077e+09</td>\n",
       "    </tr>\n",
       "    <tr>\n",
       "      <th>...</th>\n",
       "      <td>...</td>\n",
       "      <td>...</td>\n",
       "      <td>...</td>\n",
       "      <td>...</td>\n",
       "      <td>...</td>\n",
       "      <td>...</td>\n",
       "      <td>...</td>\n",
       "      <td>...</td>\n",
       "    </tr>\n",
       "    <tr>\n",
       "      <th>1375</th>\n",
       "      <td>-14.25</td>\n",
       "      <td>129.55</td>\n",
       "      <td>port keats</td>\n",
       "      <td>82.42</td>\n",
       "      <td>78.0</td>\n",
       "      <td>9.86</td>\n",
       "      <td>1.0</td>\n",
       "      <td>1.604077e+09</td>\n",
       "    </tr>\n",
       "    <tr>\n",
       "      <th>1390</th>\n",
       "      <td>12.77</td>\n",
       "      <td>120.78</td>\n",
       "      <td>batasan</td>\n",
       "      <td>81.61</td>\n",
       "      <td>71.0</td>\n",
       "      <td>2.15</td>\n",
       "      <td>100.0</td>\n",
       "      <td>1.604077e+09</td>\n",
       "    </tr>\n",
       "    <tr>\n",
       "      <th>1392</th>\n",
       "      <td>12.25</td>\n",
       "      <td>109.18</td>\n",
       "      <td>nha trang</td>\n",
       "      <td>82.40</td>\n",
       "      <td>83.0</td>\n",
       "      <td>8.05</td>\n",
       "      <td>40.0</td>\n",
       "      <td>1.604077e+09</td>\n",
       "    </tr>\n",
       "    <tr>\n",
       "      <th>1397</th>\n",
       "      <td>-16.23</td>\n",
       "      <td>39.91</td>\n",
       "      <td>angoche</td>\n",
       "      <td>79.84</td>\n",
       "      <td>74.0</td>\n",
       "      <td>9.98</td>\n",
       "      <td>0.0</td>\n",
       "      <td>1.604077e+09</td>\n",
       "    </tr>\n",
       "    <tr>\n",
       "      <th>1399</th>\n",
       "      <td>-6.98</td>\n",
       "      <td>-34.83</td>\n",
       "      <td>cabedelo</td>\n",
       "      <td>86.00</td>\n",
       "      <td>62.0</td>\n",
       "      <td>13.87</td>\n",
       "      <td>40.0</td>\n",
       "      <td>1.604077e+09</td>\n",
       "    </tr>\n",
       "  </tbody>\n",
       "</table>\n",
       "<p>561 rows × 8 columns</p>\n",
       "</div>"
      ],
      "text/plain": [
       "      Latitude  Longitude            City   Temp  Humidity  Wind Speed  \\\n",
       "0        52.52      13.41          berlin  57.20      93.0       13.87   \n",
       "1        41.51     122.72       liaozhong  41.00      48.0        4.47   \n",
       "2        10.15     -85.45          nicoya  84.20      79.0        6.93   \n",
       "3        -0.74     -90.35    puerto ayora  78.80      69.0       19.46   \n",
       "4        27.98    -114.06  guerrero negro  74.86      37.0        2.28   \n",
       "...        ...        ...             ...    ...       ...         ...   \n",
       "1375    -14.25     129.55      port keats  82.42      78.0        9.86   \n",
       "1390     12.77     120.78         batasan  81.61      71.0        2.15   \n",
       "1392     12.25     109.18       nha trang  82.40      83.0        8.05   \n",
       "1397    -16.23      39.91         angoche  79.84      74.0        9.98   \n",
       "1399     -6.98     -34.83        cabedelo  86.00      62.0       13.87   \n",
       "\n",
       "      Cloudiness          Date  \n",
       "0           75.0  1.604077e+09  \n",
       "1            0.0  1.604077e+09  \n",
       "2           40.0  1.604077e+09  \n",
       "3           40.0  1.604077e+09  \n",
       "4           24.0  1.604077e+09  \n",
       "...          ...           ...  \n",
       "1375         1.0  1.604077e+09  \n",
       "1390       100.0  1.604077e+09  \n",
       "1392        40.0  1.604077e+09  \n",
       "1397         0.0  1.604077e+09  \n",
       "1399        40.0  1.604077e+09  \n",
       "\n",
       "[561 rows x 8 columns]"
      ]
     },
     "execution_count": 31,
     "metadata": {},
     "output_type": "execute_result"
    }
   ],
   "source": [
    "clean_df\n",
    "\n"
   ]
  },
  {
   "cell_type": "markdown",
   "metadata": {},
   "source": [
    "## Plotting the Data\n",
    "* Use proper labeling of the plots using plot titles (including date of analysis) and axes labels.\n",
    "* Save the plotted figures as .pngs."
   ]
  },
  {
   "cell_type": "markdown",
   "metadata": {},
   "source": [
    "## Latitude vs. Temperature Plot"
   ]
  },
  {
   "cell_type": "code",
   "execution_count": 35,
   "metadata": {
    "scrolled": true
   },
   "outputs": [
    {
     "data": {
      "image/png": "[encoded data removed]",
      "text/plain": [
       "<Figure size 432x288 with 1 Axes>"
      ]
     },
     "metadata": {
      "needs_background": "light"
     },
     "output_type": "display_data"
    }
   ],
   "source": [
    "lat = clean_df[\"Latitude\"]\n",
    "temp = clean_df[\"Temp\"]\n",
    "plt.scatter(lat,temp)\n",
    "plt.xlabel(\"Degrees of Latitude\")\n",
    "plt.ylabel(\"Temperature (F)\")\n",
    "plt.title(\"A Comparison of Temperature at Various Degrees of Latitude\")\n",
    "plt.show()"
   ]
  },
  {
   "cell_type": "code",
   "execution_count": 34,
   "metadata": {},
   "outputs": [
    {
     "name": "stdout",
     "output_type": "stream",
     "text": [
      "The correlation coefficient between latitude and temperature is -0.66\n"
     ]
    }
   ],
   "source": [
    "import scipy.stats as st\n",
    "print(f\"The correlation coefficient between latitude and temperature is {round(st.pearsonr(lat,temp)[0],2)}\")"
   ]
  },
  {
   "cell_type": "code",
   "execution_count": null,
   "metadata": {},
   "outputs": [],
   "source": [
    "#This plot shows that temperatures decrease at greater distance from the equator. Temperatures are lower north of the equator."
   ]
  },
  {
   "cell_type": "markdown",
   "metadata": {},
   "source": [
    "## Latitude vs. Humidity Plot"
   ]
  },
  {
   "cell_type": "code",
   "execution_count": 39,
   "metadata": {},
   "outputs": [
    {
     "data": {
      "image/png": "[encoded data removed]",
      "text/plain": [
       "<Figure size 432x288 with 1 Axes>"
      ]
     },
     "metadata": {
      "needs_background": "light"
     },
     "output_type": "display_data"
    }
   ],
   "source": [
    "lat = clean_df[\"Latitude\"]\n",
    "humidity = clean_df[\"Humidity\"]\n",
    "plt.scatter(lat,humidity)\n",
    "plt.xlabel(\"Degrees of Latitude\")\n",
    "plt.ylabel(\"Percent Humidity\")\n",
    "plt.title(\"Percent Humidity at Various Degrees of Latitude\")\n",
    "plt.show()"
   ]
  },
  {
   "cell_type": "code",
   "execution_count": 37,
   "metadata": {},
   "outputs": [
    {
     "name": "stdout",
     "output_type": "stream",
     "text": [
      "The correlation coefficient between latitude and humidity is 0.24\n"
     ]
    }
   ],
   "source": [
    "print(f\"The correlation coefficient between latitude and humidity is {round(st.pearsonr(lat,humidity)[0],2)}\")"
   ]
  },
  {
   "cell_type": "code",
   "execution_count": null,
   "metadata": {},
   "outputs": [],
   "source": [
    "#Latitudinal position does not have a big effect on percent humidity. However between 60 and 80 degrees of latitude, there seems to be a pocket of higher humidity."
   ]
  },
  {
   "cell_type": "markdown",
   "metadata": {},
   "source": [
    "## Latitude vs. Cloudiness Plot"
   ]
  },
  {
   "cell_type": "code",
   "execution_count": 41,
   "metadata": {
    "scrolled": true
   },
   "outputs": [
    {
     "data": {
      "image/png": "[encoded data removed]",
      "text/plain": [
       "<Figure size 432x288 with 1 Axes>"
      ]
     },
     "metadata": {
      "needs_background": "light"
     },
     "output_type": "display_data"
    }
   ],
   "source": [
    "lat = clean_df[\"Latitude\"]\n",
    "cloud = clean_df[\"Cloudiness\"]\n",
    "plt.scatter(lat,cloud)\n",
    "plt.xlabel(\"Degrees of Latitude\")\n",
    "plt.ylabel(\"Cloudiness\")\n",
    "plt.title(\"Percent Cloudcover at Various Degrees of Latitude\")\n",
    "plt.show()"
   ]
  },
  {
   "cell_type": "code",
   "execution_count": 45,
   "metadata": {},
   "outputs": [
    {
     "name": "stdout",
     "output_type": "stream",
     "text": [
      "The correlation coefficient between latitude and humidity is 0.08\n"
     ]
    }
   ],
   "source": [
    "print(f\"The correlation coefficient between latitude and humidity is {round(st.pearsonr(lat,cloud)[0],2)}\")"
   ]
  },
  {
   "cell_type": "code",
   "execution_count": null,
   "metadata": {},
   "outputs": [],
   "source": [
    "#The percent cloudiness seems pretty evenly dispersed. There also seems to be a cluster around 50 to 80 degrees, but not sure if I just have a bunch of cities in that area."
   ]
  },
  {
   "cell_type": "markdown",
   "metadata": {},
   "source": [
    "## Latitude vs. Wind Speed Plot"
   ]
  },
  {
   "cell_type": "code",
   "execution_count": 49,
   "metadata": {},
   "outputs": [
    {
     "data": {
      "image/png": "[encoded data removed]",
      "text/plain": [
       "<Figure size 432x288 with 1 Axes>"
      ]
     },
     "metadata": {
      "needs_background": "light"
     },
     "output_type": "display_data"
    }
   ],
   "source": [
    "lat = clean_df[\"Latitude\"]\n",
    "wind = clean_df[\"Wind Speed\"]\n",
    "plt.scatter(lat,wind)\n",
    "plt.xlabel(\"Degrees of Latitude\")\n",
    "plt.ylabel(\"Wind Speed (mph)\")\n",
    "plt.title(\"Wind Speed at Various Degrees of Latitude\")\n",
    "plt.show()"
   ]
  },
  {
   "cell_type": "code",
   "execution_count": 47,
   "metadata": {},
   "outputs": [
    {
     "name": "stdout",
     "output_type": "stream",
     "text": [
      "The correlation coefficient between latitude and wind speed is -0.06\n"
     ]
    }
   ],
   "source": [
    "print(f\"The correlation coefficient between latitude and wind speed is {round(st.pearsonr(lat,wind)[0],2)}\")"
   ]
  },
  {
   "cell_type": "code",
   "execution_count": null,
   "metadata": {},
   "outputs": [],
   "source": [
    "#Wind speed does not seem to be affected by the latitudinal position of the city."
   ]
  },
  {
   "cell_type": "markdown",
   "metadata": {},
   "source": [
    "## Linear Regression"
   ]
  },
  {
   "cell_type": "code",
   "execution_count": 51,
   "metadata": {},
   "outputs": [],
   "source": [
    "from scipy.stats import linregress"
   ]
  },
  {
   "cell_type": "code",
   "execution_count": 62,
   "metadata": {},
   "outputs": [
    {
     "name": "stdout",
     "output_type": "stream",
     "text": [
      "The r-squared is: 0.7841229507564348\n"
     ]
    },
    {
     "data": {
      "image/png": "[encoded data removed]",
      "text/plain": [
       "<Figure size 432x288 with 1 Axes>"
      ]
     },
     "metadata": {
      "needs_background": "light"
     },
     "output_type": "display_data"
    }
   ],
   "source": [
    "north = clean_df.loc[clean_df[\"Latitude\"]>=0]\n",
    "\n",
    "x_values = north[\"Latitude\"]\n",
    "y_values = north[\"Temp\"]\n",
    "(slope, intercept, rvalue, pvalue, stderr) = linregress(x_values, y_values)\n",
    "regress_values = x_values * slope + intercept\n",
    "line_eq = \"y = \" + str(round(slope,2)) + \"x + \" + str(round(intercept,2))\n",
    "plt.scatter(x_values,y_values)\n",
    "plt.plot(x_values,regress_values,\"r-\")\n",
    "plt.annotate(line_eq,(5,10),fontsize=15,color=\"red\")\n",
    "plt.xlabel(\"Degrees of Latitude\")\n",
    "plt.ylabel(\"Max Temp (F)\")\n",
    "plt.title(\"Northern Hemisphere Max Temp vs Latitude\")\n",
    "print(f\"The r-squared is: {rvalue**2}\")\n",
    "plt.show()"
   ]
  },
  {
   "cell_type": "markdown",
   "metadata": {},
   "source": [
    "####  Northern Hemisphere - Max Temp vs. Latitude Linear Regression"
   ]
  },
  {
   "cell_type": "markdown",
   "metadata": {},
   "source": [
    "####  Southern Hemisphere - Max Temp vs. Latitude Linear Regression"
   ]
  },
  {
   "cell_type": "code",
   "execution_count": 64,
   "metadata": {},
   "outputs": [
    {
     "name": "stdout",
     "output_type": "stream",
     "text": [
      "The r-squared is: 0.4609922679264991\n"
     ]
    },
    {
     "data": {
      "image/png": "[encoded data removed]",
      "text/plain": [
       "<Figure size 432x288 with 1 Axes>"
      ]
     },
     "metadata": {
      "needs_background": "light"
     },
     "output_type": "display_data"
    }
   ],
   "source": [
    "south = clean_df.loc[clean_df[\"Latitude\"]<0]\n",
    "\n",
    "x_values = south[\"Latitude\"]\n",
    "y_values = south[\"Temp\"]\n",
    "(slope, intercept, rvalue, pvalue, stderr) = linregress(x_values, y_values)\n",
    "regress_values = x_values * slope + intercept\n",
    "line_eq = \"y = \" + str(round(slope,2)) + \"x + \" + str(round(intercept,2))\n",
    "plt.scatter(x_values,y_values)\n",
    "plt.plot(x_values,regress_values,\"r-\")\n",
    "plt.annotate(line_eq,(-25,40),fontsize=15,color=\"red\")\n",
    "plt.xlabel(\"Degrees of Latitude\")\n",
    "plt.ylabel(\"Max Temp (F)\")\n",
    "plt.title(\"Southern Hemisphere Max Temp vs Latitude\")\n",
    "print(f\"The r-squared is: {rvalue**2}\")\n",
    "plt.show()"
   ]
  },
  {
   "cell_type": "markdown",
   "metadata": {},
   "source": [
    "####  Northern Hemisphere - Humidity (%) vs. Latitude Linear Regression"
   ]
  },
  {
   "cell_type": "code",
   "execution_count": 67,
   "metadata": {},
   "outputs": [
    {
     "name": "stdout",
     "output_type": "stream",
     "text": [
      "The r-squared is: 0.14053809559774139\n"
     ]
    },
    {
     "data": {
      "image/png": "[encoded data removed]",
      "text/plain": [
       "<Figure size 432x288 with 1 Axes>"
      ]
     },
     "metadata": {
      "needs_background": "light"
     },
     "output_type": "display_data"
    }
   ],
   "source": [
    "north = clean_df.loc[clean_df[\"Latitude\"]>=0]\n",
    "\n",
    "x_values = north[\"Latitude\"]\n",
    "y_values = north[\"Humidity\"]\n",
    "(slope, intercept, rvalue, pvalue, stderr) = linregress(x_values, y_values)\n",
    "regress_values = x_values * slope + intercept\n",
    "line_eq = \"y = \" + str(round(slope,2)) + \"x + \" + str(round(intercept,2))\n",
    "plt.scatter(x_values,y_values)\n",
    "plt.plot(x_values,regress_values,\"r-\")\n",
    "plt.annotate(line_eq,(40,10),fontsize=15,color=\"red\")\n",
    "plt.xlabel(\"Degrees of Latitude\")\n",
    "plt.ylabel(\"Humidity (%)\")\n",
    "plt.title(\"Northern Hemisphere Humidity (%) vs Latitude\")\n",
    "print(f\"The r-squared is: {rvalue**2}\")\n",
    "plt.show()"
   ]
  },
  {
   "cell_type": "markdown",
   "metadata": {},
   "source": [
    "####  Southern Hemisphere - Humidity (%) vs. Latitude Linear Regression"
   ]
  },
  {
   "cell_type": "code",
   "execution_count": 68,
   "metadata": {},
   "outputs": [
    {
     "name": "stdout",
     "output_type": "stream",
     "text": [
      "The r-squared is: 0.014638140492941366\n"
     ]
    },
    {
     "data": {
      "image/png": "[encoded data removed]",
      "text/plain": [
       "<Figure size 432x288 with 1 Axes>"
      ]
     },
     "metadata": {
      "needs_background": "light"
     },
     "output_type": "display_data"
    }
   ],
   "source": [
    "x_values = south[\"Latitude\"]\n",
    "y_values = south[\"Humidity\"]\n",
    "(slope, intercept, rvalue, pvalue, stderr) = linregress(x_values, y_values)\n",
    "regress_values = x_values * slope + intercept\n",
    "line_eq = \"y = \" + str(round(slope,2)) + \"x + \" + str(round(intercept,2))\n",
    "plt.scatter(x_values,y_values)\n",
    "plt.plot(x_values,regress_values,\"r-\")\n",
    "plt.annotate(line_eq,(-25,40),fontsize=15,color=\"red\")\n",
    "plt.xlabel(\"Degrees of Latitude\")\n",
    "plt.ylabel(\"Humidity (%)\")\n",
    "plt.title(\"Southern Hemisphere Humidity (%) vs Latitude\")\n",
    "print(f\"The r-squared is: {rvalue**2}\")\n",
    "plt.show()"
   ]
  },
  {
   "cell_type": "markdown",
   "metadata": {},
   "source": [
    "####  Northern Hemisphere - Cloudiness (%) vs. Latitude Linear Regression"
   ]
  },
  {
   "cell_type": "code",
   "execution_count": 74,
   "metadata": {},
   "outputs": [
    {
     "name": "stdout",
     "output_type": "stream",
     "text": [
      "The r-squared is: 0.0557175068029524\n"
     ]
    },
    {
     "data": {
      "image/png": "[encoded data removed]",
      "text/plain": [
       "<Figure size 432x288 with 1 Axes>"
      ]
     },
     "metadata": {
      "needs_background": "light"
     },
     "output_type": "display_data"
    }
   ],
   "source": [
    "x_values = north[\"Latitude\"]\n",
    "y_values = north[\"Cloudiness\"]\n",
    "(slope, intercept, rvalue, pvalue, stderr) = linregress(x_values, y_values)\n",
    "regress_values = x_values * slope + intercept\n",
    "line_eq = \"y = \" + str(round(slope,2)) + \"x + \" + str(round(intercept,2))\n",
    "plt.scatter(x_values,y_values)\n",
    "plt.plot(x_values,regress_values,\"r-\")\n",
    "plt.annotate(line_eq,(40,10),fontsize=15,color=\"red\")\n",
    "plt.xlabel(\"Degrees of Latitude\")\n",
    "plt.ylabel(\"Cloudiness (%)\")\n",
    "plt.title(\"Northern Hemisphere Cloudiness (%) vs Latitude\")\n",
    "print(f\"The r-squared is: {rvalue**2}\")\n",
    "plt.show()"
   ]
  },
  {
   "cell_type": "markdown",
   "metadata": {},
   "source": [
    "####  Southern Hemisphere - Cloudiness (%) vs. Latitude Linear Regression"
   ]
  },
  {
   "cell_type": "code",
   "execution_count": 71,
   "metadata": {},
   "outputs": [
    {
     "name": "stdout",
     "output_type": "stream",
     "text": [
      "The r-squared is: 0.039043491878373034\n"
     ]
    },
    {
     "data": {
      "image/png": "[encoded data removed]",
      "text/plain": [
       "<Figure size 432x288 with 1 Axes>"
      ]
     },
     "metadata": {
      "needs_background": "light"
     },
     "output_type": "display_data"
    }
   ],
   "source": [
    "x_values = south[\"Latitude\"]\n",
    "y_values = south[\"Cloudiness\"]\n",
    "(slope, intercept, rvalue, pvalue, stderr) = linregress(x_values, y_values)\n",
    "regress_values = x_values * slope + intercept\n",
    "line_eq = \"y = \" + str(round(slope,2)) + \"x + \" + str(round(intercept,2))\n",
    "plt.scatter(x_values,y_values)\n",
    "plt.plot(x_values,regress_values,\"r-\")\n",
    "plt.annotate(line_eq,(-55,25),fontsize=15,color=\"red\")\n",
    "plt.xlabel(\"Degrees of Latitude\")\n",
    "plt.ylabel(\"Cloudiness\")\n",
    "plt.title(\"Southern Hemisphere Percent Cloudiness vs Latitude\")\n",
    "print(f\"The r-squared is: {rvalue**2}\")\n",
    "plt.show()"
   ]
  },
  {
   "cell_type": "markdown",
   "metadata": {},
   "source": [
    "####  Northern Hemisphere - Wind Speed (mph) vs. Latitude Linear Regression"
   ]
  },
  {
   "cell_type": "code",
   "execution_count": 76,
   "metadata": {},
   "outputs": [
    {
     "name": "stdout",
     "output_type": "stream",
     "text": [
      "The r-squared is: 0.007951485764976328\n"
     ]
    },
    {
     "data": {
      "image/png": "[encoded data removed]",
      "text/plain": [
       "<Figure size 432x288 with 1 Axes>"
      ]
     },
     "metadata": {
      "needs_background": "light"
     },
     "output_type": "display_data"
    }
   ],
   "source": [
    "x_values = north[\"Latitude\"]\n",
    "y_values = north[\"Wind Speed\"]\n",
    "(slope, intercept, rvalue, pvalue, stderr) = linregress(x_values, y_values)\n",
    "regress_values = x_values * slope + intercept\n",
    "line_eq = \"y = \" + str(round(slope,2)) + \"x + \" + str(round(intercept,2))\n",
    "plt.scatter(x_values,y_values)\n",
    "plt.plot(x_values,regress_values,\"r-\")\n",
    "plt.annotate(line_eq,(5,25),fontsize=15,color=\"red\")\n",
    "plt.xlabel(\"Degrees of Latitude\")\n",
    "plt.ylabel(\"Wind Speed (mph)\")\n",
    "plt.title(\"Northern Hemisphere Wind Speed (mph) vs Latitude\")\n",
    "print(f\"The r-squared is: {rvalue**2}\")\n",
    "plt.show()"
   ]
  },
  {
   "cell_type": "markdown",
   "metadata": {},
   "source": [
    "####  Southern Hemisphere - Wind Speed (mph) vs. Latitude Linear Regression"
   ]
  },
  {
   "cell_type": "code",
   "execution_count": 73,
   "metadata": {},
   "outputs": [
    {
     "name": "stdout",
     "output_type": "stream",
     "text": [
      "The r-squared is: 0.013530155506540352\n"
     ]
    },
    {
     "data": {
      "image/png": "[encoded data removed]",
      "text/plain": [
       "<Figure size 432x288 with 1 Axes>"
      ]
     },
     "metadata": {
      "needs_background": "light"
     },
     "output_type": "display_data"
    }
   ],
   "source": [
    "x_values = south[\"Latitude\"]\n",
    "y_values = south[\"Wind Speed\"]\n",
    "(slope, intercept, rvalue, pvalue, stderr) = linregress(x_values, y_values)\n",
    "regress_values = x_values * slope + intercept\n",
    "line_eq = \"y = \" + str(round(slope,2)) + \"x + \" + str(round(intercept,2))\n",
    "plt.scatter(x_values,y_values)\n",
    "plt.plot(x_values,regress_values,\"r-\")\n",
    "plt.annotate(line_eq,(-55,20),fontsize=15,color=\"red\")\n",
    "plt.xlabel(\"Degrees of Latitude\")\n",
    "plt.ylabel(\"Wind Speed (mph)\")\n",
    "plt.title(\"Southern Hemisphere Wind Speed vs Latitude\")\n",
    "print(f\"The r-squared is: {rvalue**2}\")\n",
    "plt.show()"
   ]
  },
  {
   "cell_type": "code",
   "execution_count": null,
   "metadata": {},
   "outputs": [],
   "source": []
  }
 ],
 "metadata": {
  "anaconda-cloud": {},
  "kernel_info": {
   "name": "python3"
  },
  "kernelspec": {
   "display_name": "Python [conda env:root] *",
   "language": "python",
   "name": "conda-root-py"
  },
  "language_info": {
   "codemirror_mode": {
    "name": "ipython",
    "version": 3
   },
   "file_extension": ".py",
   "mimetype": "text/x-python",
   "name": "python",
   "nbconvert_exporter": "python",
   "pygments_lexer": "ipython3",
   "version": "3.8.3"
  },
  "latex_envs": {
   "LaTeX_envs_menu_present": true,
   "autoclose": false,
   "autocomplete": true,
   "bibliofile": "biblio.bib",
   "cite_by": "apalike",
   "current_citInitial": 1,
   "eqLabelWithNumbers": true,
   "eqNumInitial": 1,
   "hotkeys": {
    "equation": "Ctrl-E",
    "itemize": "Ctrl-I"
   },
   "labels_anchors": false,
   "latex_user_defs": false,
   "report_style_numbering": false,
   "user_envs_cfg": false
  },
  "nteract": {
   "version": "0.12.3"
  }
 },
 "nbformat": 4,
 "nbformat_minor": 2
}
