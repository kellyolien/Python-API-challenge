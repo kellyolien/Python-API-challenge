{
 "cells": [
  {
   "cell_type": "markdown",
   "metadata": {},
   "source": [
    "# WeatherPy\n",
    "----\n",
    "\n",
    "#### Note\n",
    "* Instructions have been included for each segment. You do not have to follow them exactly, but they are included to help you think through the steps."
   ]
  },
  {
   "cell_type": "code",
   "execution_count": 1,
   "metadata": {
    "scrolled": true
   },
   "outputs": [],
   "source": [
    "import matplotlib.pyplot as plt\n",
    "from scipy import stats\n",
    "import gmaps\n",
    "from api_keys import g_key\n",
    "from api_keys import weather_api_key\n",
    "import pandas as pd\n",
    "from citipy import citipy\n",
    "import requests\n",
    "import numpy as np\n",
    "import json"
   ]
  },
  {
   "cell_type": "markdown",
   "metadata": {},
   "source": [
    "## Generate Cities List"
   ]
  },
  {
   "cell_type": "code",
   "execution_count": 2,
   "metadata": {},
   "outputs": [
    {
     "data": {
      "text/html": [
       "<div>\n",
       "<style scoped>\n",
       "    .dataframe tbody tr th:only-of-type {\n",
       "        vertical-align: middle;\n",
       "    }\n",
       "\n",
       "    .dataframe tbody tr th {\n",
       "        vertical-align: top;\n",
       "    }\n",
       "\n",
       "    .dataframe thead th {\n",
       "        text-align: right;\n",
       "    }\n",
       "</style>\n",
       "<table border=\"1\" class=\"dataframe\">\n",
       "  <thead>\n",
       "    <tr style=\"text-align: right;\">\n",
       "      <th></th>\n",
       "      <th>Latitude</th>\n",
       "      <th>Longitude</th>\n",
       "    </tr>\n",
       "  </thead>\n",
       "  <tbody>\n",
       "    <tr>\n",
       "      <th>0</th>\n",
       "      <td>80.312954</td>\n",
       "      <td>-165.172362</td>\n",
       "    </tr>\n",
       "    <tr>\n",
       "      <th>1</th>\n",
       "      <td>43.647776</td>\n",
       "      <td>78.222395</td>\n",
       "    </tr>\n",
       "    <tr>\n",
       "      <th>2</th>\n",
       "      <td>19.603563</td>\n",
       "      <td>-115.241324</td>\n",
       "    </tr>\n",
       "    <tr>\n",
       "      <th>3</th>\n",
       "      <td>-72.412616</td>\n",
       "      <td>98.194684</td>\n",
       "    </tr>\n",
       "    <tr>\n",
       "      <th>4</th>\n",
       "      <td>66.930967</td>\n",
       "      <td>140.401519</td>\n",
       "    </tr>\n",
       "    <tr>\n",
       "      <th>...</th>\n",
       "      <td>...</td>\n",
       "      <td>...</td>\n",
       "    </tr>\n",
       "    <tr>\n",
       "      <th>1395</th>\n",
       "      <td>81.620903</td>\n",
       "      <td>-118.963565</td>\n",
       "    </tr>\n",
       "    <tr>\n",
       "      <th>1396</th>\n",
       "      <td>3.891527</td>\n",
       "      <td>-46.203353</td>\n",
       "    </tr>\n",
       "    <tr>\n",
       "      <th>1397</th>\n",
       "      <td>-39.750332</td>\n",
       "      <td>-42.198306</td>\n",
       "    </tr>\n",
       "    <tr>\n",
       "      <th>1398</th>\n",
       "      <td>-31.355154</td>\n",
       "      <td>-159.030872</td>\n",
       "    </tr>\n",
       "    <tr>\n",
       "      <th>1399</th>\n",
       "      <td>75.697737</td>\n",
       "      <td>-104.101010</td>\n",
       "    </tr>\n",
       "  </tbody>\n",
       "</table>\n",
       "<p>1400 rows × 2 columns</p>\n",
       "</div>"
      ],
      "text/plain": [
       "       Latitude   Longitude\n",
       "0     80.312954 -165.172362\n",
       "1     43.647776   78.222395\n",
       "2     19.603563 -115.241324\n",
       "3    -72.412616   98.194684\n",
       "4     66.930967  140.401519\n",
       "...         ...         ...\n",
       "1395  81.620903 -118.963565\n",
       "1396   3.891527  -46.203353\n",
       "1397 -39.750332  -42.198306\n",
       "1398 -31.355154 -159.030872\n",
       "1399  75.697737 -104.101010\n",
       "\n",
       "[1400 rows x 2 columns]"
      ]
     },
     "execution_count": 2,
     "metadata": {},
     "output_type": "execute_result"
    }
   ],
   "source": [
    "#Latitude (-90,90) / Longitude (-180,180), 1400 random points\n",
    "\n",
    "rnd_lng = np.random.uniform(-180,180,1400)\n",
    "rnd_lat = np.random.uniform(-90,90,1400)\n",
    "\n",
    "random_points_df = pd.DataFrame({\"Latitude\":rnd_lat,\n",
    "                          \"Longitude\":rnd_lng})\n",
    "random_points_df\n"
   ]
  },
  {
   "cell_type": "code",
   "execution_count": 3,
   "metadata": {},
   "outputs": [
    {
     "data": {
      "text/html": [
       "<div>\n",
       "<style scoped>\n",
       "    .dataframe tbody tr th:only-of-type {\n",
       "        vertical-align: middle;\n",
       "    }\n",
       "\n",
       "    .dataframe tbody tr th {\n",
       "        vertical-align: top;\n",
       "    }\n",
       "\n",
       "    .dataframe thead th {\n",
       "        text-align: right;\n",
       "    }\n",
       "</style>\n",
       "<table border=\"1\" class=\"dataframe\">\n",
       "  <thead>\n",
       "    <tr style=\"text-align: right;\">\n",
       "      <th></th>\n",
       "      <th>Latitude</th>\n",
       "      <th>Longitude</th>\n",
       "      <th>City</th>\n",
       "    </tr>\n",
       "  </thead>\n",
       "  <tbody>\n",
       "    <tr>\n",
       "      <th>0</th>\n",
       "      <td>80.312954</td>\n",
       "      <td>-165.172362</td>\n",
       "      <td>barrow</td>\n",
       "    </tr>\n",
       "    <tr>\n",
       "      <th>1</th>\n",
       "      <td>43.647776</td>\n",
       "      <td>78.222395</td>\n",
       "      <td>saryozek</td>\n",
       "    </tr>\n",
       "    <tr>\n",
       "      <th>2</th>\n",
       "      <td>19.603563</td>\n",
       "      <td>-115.241324</td>\n",
       "      <td>cabo san lucas</td>\n",
       "    </tr>\n",
       "    <tr>\n",
       "      <th>3</th>\n",
       "      <td>-72.412616</td>\n",
       "      <td>98.194684</td>\n",
       "      <td>albany</td>\n",
       "    </tr>\n",
       "    <tr>\n",
       "      <th>4</th>\n",
       "      <td>66.930967</td>\n",
       "      <td>140.401519</td>\n",
       "      <td>deputatskiy</td>\n",
       "    </tr>\n",
       "    <tr>\n",
       "      <th>...</th>\n",
       "      <td>...</td>\n",
       "      <td>...</td>\n",
       "      <td>...</td>\n",
       "    </tr>\n",
       "    <tr>\n",
       "      <th>1395</th>\n",
       "      <td>81.620903</td>\n",
       "      <td>-118.963565</td>\n",
       "      <td>norman wells</td>\n",
       "    </tr>\n",
       "    <tr>\n",
       "      <th>1396</th>\n",
       "      <td>3.891527</td>\n",
       "      <td>-46.203353</td>\n",
       "      <td>salinopolis</td>\n",
       "    </tr>\n",
       "    <tr>\n",
       "      <th>1397</th>\n",
       "      <td>-39.750332</td>\n",
       "      <td>-42.198306</td>\n",
       "      <td>cidreira</td>\n",
       "    </tr>\n",
       "    <tr>\n",
       "      <th>1398</th>\n",
       "      <td>-31.355154</td>\n",
       "      <td>-159.030872</td>\n",
       "      <td>avarua</td>\n",
       "    </tr>\n",
       "    <tr>\n",
       "      <th>1399</th>\n",
       "      <td>75.697737</td>\n",
       "      <td>-104.101010</td>\n",
       "      <td>yellowknife</td>\n",
       "    </tr>\n",
       "  </tbody>\n",
       "</table>\n",
       "<p>1400 rows × 3 columns</p>\n",
       "</div>"
      ],
      "text/plain": [
       "       Latitude   Longitude            City\n",
       "0     80.312954 -165.172362          barrow\n",
       "1     43.647776   78.222395        saryozek\n",
       "2     19.603563 -115.241324  cabo san lucas\n",
       "3    -72.412616   98.194684          albany\n",
       "4     66.930967  140.401519     deputatskiy\n",
       "...         ...         ...             ...\n",
       "1395  81.620903 -118.963565    norman wells\n",
       "1396   3.891527  -46.203353     salinopolis\n",
       "1397 -39.750332  -42.198306        cidreira\n",
       "1398 -31.355154 -159.030872          avarua\n",
       "1399  75.697737 -104.101010     yellowknife\n",
       "\n",
       "[1400 rows x 3 columns]"
      ]
     },
     "execution_count": 3,
     "metadata": {},
     "output_type": "execute_result"
    }
   ],
   "source": [
    "city = []\n",
    "\n",
    "#Find nearest city\n",
    "for i in range(0,len(random_points_df['Latitude'])):\n",
    "    city_current = citipy.nearest_city(random_points_df.iloc[i]['Latitude'],random_points_df.iloc[i]['Longitude']).city_name\n",
    "    city.append(city_current)\n",
    "   \n",
    "random_points_df['City'] = city\n",
    "random_points_df"
   ]
  },
  {
   "cell_type": "code",
   "execution_count": 4,
   "metadata": {},
   "outputs": [
    {
     "data": {
      "text/html": [
       "<div>\n",
       "<style scoped>\n",
       "    .dataframe tbody tr th:only-of-type {\n",
       "        vertical-align: middle;\n",
       "    }\n",
       "\n",
       "    .dataframe tbody tr th {\n",
       "        vertical-align: top;\n",
       "    }\n",
       "\n",
       "    .dataframe thead th {\n",
       "        text-align: right;\n",
       "    }\n",
       "</style>\n",
       "<table border=\"1\" class=\"dataframe\">\n",
       "  <thead>\n",
       "    <tr style=\"text-align: right;\">\n",
       "      <th></th>\n",
       "      <th>Latitude</th>\n",
       "      <th>Longitude</th>\n",
       "    </tr>\n",
       "    <tr>\n",
       "      <th>City</th>\n",
       "      <th></th>\n",
       "      <th></th>\n",
       "    </tr>\n",
       "  </thead>\n",
       "  <tbody>\n",
       "    <tr>\n",
       "      <th>aban</th>\n",
       "      <td>1</td>\n",
       "      <td>1</td>\n",
       "    </tr>\n",
       "    <tr>\n",
       "      <th>abeche</th>\n",
       "      <td>1</td>\n",
       "      <td>1</td>\n",
       "    </tr>\n",
       "    <tr>\n",
       "      <th>abu samrah</th>\n",
       "      <td>1</td>\n",
       "      <td>1</td>\n",
       "    </tr>\n",
       "    <tr>\n",
       "      <th>acapulco</th>\n",
       "      <td>1</td>\n",
       "      <td>1</td>\n",
       "    </tr>\n",
       "    <tr>\n",
       "      <th>acarau</th>\n",
       "      <td>1</td>\n",
       "      <td>1</td>\n",
       "    </tr>\n",
       "    <tr>\n",
       "      <th>...</th>\n",
       "      <td>...</td>\n",
       "      <td>...</td>\n",
       "    </tr>\n",
       "    <tr>\n",
       "      <th>zahir pir</th>\n",
       "      <td>1</td>\n",
       "      <td>1</td>\n",
       "    </tr>\n",
       "    <tr>\n",
       "      <th>zaragoza</th>\n",
       "      <td>1</td>\n",
       "      <td>1</td>\n",
       "    </tr>\n",
       "    <tr>\n",
       "      <th>zhangye</th>\n",
       "      <td>2</td>\n",
       "      <td>2</td>\n",
       "    </tr>\n",
       "    <tr>\n",
       "      <th>zhigansk</th>\n",
       "      <td>2</td>\n",
       "      <td>2</td>\n",
       "    </tr>\n",
       "    <tr>\n",
       "      <th>zittau</th>\n",
       "      <td>1</td>\n",
       "      <td>1</td>\n",
       "    </tr>\n",
       "  </tbody>\n",
       "</table>\n",
       "<p>601 rows × 2 columns</p>\n",
       "</div>"
      ],
      "text/plain": [
       "            Latitude  Longitude\n",
       "City                           \n",
       "aban               1          1\n",
       "abeche             1          1\n",
       "abu samrah         1          1\n",
       "acapulco           1          1\n",
       "acarau             1          1\n",
       "...              ...        ...\n",
       "zahir pir          1          1\n",
       "zaragoza           1          1\n",
       "zhangye            2          2\n",
       "zhigansk           2          2\n",
       "zittau             1          1\n",
       "\n",
       "[601 rows x 2 columns]"
      ]
     },
     "execution_count": 4,
     "metadata": {},
     "output_type": "execute_result"
    }
   ],
   "source": [
    "random_points_df.groupby(\"City\").count()"
   ]
  },
  {
   "cell_type": "code",
   "execution_count": 5,
   "metadata": {},
   "outputs": [
    {
     "data": {
      "text/plain": [
       "601"
      ]
     },
     "execution_count": 5,
     "metadata": {},
     "output_type": "execute_result"
    }
   ],
   "source": [
    "cities_df = random_points_df.drop_duplicates(\"City\", keep=\"first\")\n",
    "cities_df\n",
    "total_cities =len(cities_df)\n",
    "total_cities\n",
    "#Had to go back and add more cities to start with - first total after dropping duplicates was 328 cities (need 500+)"
   ]
  },
  {
   "cell_type": "markdown",
   "metadata": {},
   "source": [
    "### Perform API Calls\n",
    "* Perform a weather check on each city using a series of successive API calls.\n",
    "* Include a print log of each city as it'sbeing processed (with the city number and city name).\n"
   ]
  },
  {
   "cell_type": "code",
   "execution_count": 6,
   "metadata": {
    "scrolled": true
   },
   "outputs": [
    {
     "name": "stdout",
     "output_type": "stream",
     "text": [
      "Processing record : barrow\n",
      "Processing record : saryozek\n",
      "Processing record : cabo san lucas\n",
      "Processing record : albany\n",
      "Processing record : deputatskiy\n",
      "Processing record : katherine\n",
      "Processing record : ostrowiec swietokrzyski\n",
      "Processing record : longyearbyen\n",
      "Processing record : cottbus\n",
      "Processing record : mar del plata\n",
      "Processing record : pangkalanbuun\n",
      "Processing record : severo-kurilsk\n",
      "Processing record : baykit\n",
      "Processing record : anchorage\n",
      "Processing record : son la\n",
      "Processing record : itacarambi\n",
      "Processing record : georgetown\n",
      "Processing record : tingo maria\n",
      "Processing record : narsaq\n",
      "Processing record : sisimiut\n",
      "Processing record : takoradi\n",
      "Processing record : salalah\n",
      "Processing record : necochea\n",
      "Processing record : bubaque\n",
      "Processing record : bluff\n",
      "Processing record : rikitea\n",
      "Processing record : hobart\n",
      "City not found. Skipping..\n",
      "Processing record : vaitape\n",
      "Processing record : khatanga\n",
      "Processing record : lebanon\n",
      "Processing record : oranjemund\n",
      "Processing record : taksimo\n",
      "City not found. Skipping..\n",
      "Processing record : kapaa\n",
      "Processing record : saint anthony\n",
      "Processing record : hermanus\n",
      "Processing record : butaritari\n",
      "Processing record : belebey\n",
      "Processing record : diamantino\n",
      "Processing record : paamiut\n",
      "Processing record : ushuaia\n",
      "City not found. Skipping..\n",
      "Processing record : guisa\n",
      "Processing record : busselton\n",
      "Processing record : saskylakh\n",
      "Processing record : punta arenas\n",
      "Processing record : clyde river\n",
      "Processing record : hamilton\n",
      "Processing record : san patricio\n",
      "Processing record : port alfred\n",
      "Processing record : sioux lookout\n",
      "Processing record : hasaki\n",
      "Processing record : shymkent\n",
      "Processing record : thinadhoo\n",
      "City not found. Skipping..\n",
      "Processing record : cape town\n",
      "Processing record : berlevag\n",
      "Processing record : acarau\n",
      "City not found. Skipping..\n",
      "Processing record : kualakapuas\n",
      "Processing record : victoria\n",
      "Processing record : durazno\n",
      "Processing record : puerto ayora\n",
      "Processing record : vila\n",
      "Processing record : sitka\n",
      "Processing record : tsabong\n",
      "City not found. Skipping..\n",
      "Processing record : tessalit\n",
      "Processing record : puerto escondido\n",
      "Processing record : vanimo\n",
      "Processing record : kodiak\n",
      "City not found. Skipping..\n",
      "Processing record : uige\n",
      "Processing record : pachino\n",
      "Processing record : kupang\n",
      "Processing record : sampit\n",
      "Processing record : atuona\n",
      "City not found. Skipping..\n",
      "Processing record : nouadhibou\n",
      "Processing record : el rosario\n",
      "Processing record : arraial do cabo\n",
      "Processing record : yulara\n",
      "Processing record : upala\n",
      "Processing record : beringovskiy\n",
      "Processing record : saint-philippe\n",
      "Processing record : vaini\n",
      "Processing record : dikson\n",
      "Processing record : lompoc\n",
      "Processing record : chokurdakh\n",
      "Processing record : wembley\n",
      "Processing record : sault sainte marie\n",
      "Processing record : bredasdorp\n",
      "Processing record : agogo\n",
      "Processing record : samarai\n",
      "Processing record : luderitz\n",
      "Processing record : east london\n",
      "Processing record : wajima\n",
      "Processing record : sabang\n",
      "Processing record : saldanha\n",
      "Processing record : puerto leguizamo\n",
      "Processing record : livingston\n",
      "City not found. Skipping..\n",
      "Processing record : bilibino\n",
      "Processing record : mataura\n",
      "Processing record : santa catarina de tepehuanes\n",
      "Processing record : bandarbeyla\n",
      "Processing record : arequipa\n",
      "Processing record : osmena\n",
      "Processing record : cartagena\n",
      "Processing record : verkhnevilyuysk\n",
      "Processing record : cochrane\n",
      "Processing record : talnakh\n",
      "Processing record : worland\n",
      "Processing record : nara\n",
      "Processing record : normandin\n",
      "Processing record : lorengau\n",
      "Processing record : carnarvon\n",
      "Processing record : iqaluit\n",
      "City not found. Skipping..\n",
      "Processing record : monterey\n",
      "Processing record : yelizovo\n",
      "Processing record : port elizabeth\n",
      "Processing record : hilo\n",
      "Processing record : airai\n",
      "Processing record : pamekasan\n",
      "Processing record : avarua\n",
      "Processing record : ola\n",
      "Processing record : mouila\n",
      "Processing record : guerrero negro\n",
      "City not found. Skipping..\n",
      "Processing record : tomatlan\n",
      "City not found. Skipping..\n",
      "Processing record : meulaboh\n",
      "Processing record : saint george\n",
      "Processing record : lata\n",
      "Processing record : kaitangata\n",
      "Processing record : rapid city\n",
      "Processing record : marevo\n",
      "Processing record : chemal\n",
      "Processing record : sitionuevo\n",
      "Processing record : bethel\n",
      "Processing record : thompson\n",
      "Processing record : cosmopolis\n",
      "Processing record : serov\n",
      "Processing record : port macquarie\n",
      "Processing record : tuktoyaktuk\n",
      "Processing record : camargo\n",
      "Processing record : oussouye\n",
      "Processing record : kafanchan\n",
      "Processing record : kruisfontein\n",
      "Processing record : humberto de campos\n",
      "Processing record : hearst\n",
      "Processing record : inirida\n",
      "City not found. Skipping..\n",
      "Processing record : leningradskiy\n",
      "Processing record : santa vitoria do palmar\n",
      "Processing record : snezhnogorsk\n",
      "Processing record : laguna\n",
      "Processing record : huarmey\n",
      "Processing record : kotagiri\n",
      "Processing record : new agutaya\n",
      "Processing record : bambous virieux\n",
      "Processing record : pacific grove\n",
      "Processing record : bengkulu\n",
      "Processing record : kavaratti\n",
      "Processing record : lavrentiya\n",
      "Processing record : mareeba\n",
      "Processing record : terrace\n",
      "Processing record : ribeira grande\n",
      "Processing record : mragowo\n",
      "City not found. Skipping..\n",
      "Processing record : ulmeni\n",
      "Processing record : ankpa\n",
      "Processing record : biak\n",
      "Processing record : sukhumi\n",
      "City not found. Skipping..\n",
      "Processing record : los llanos de aridane\n",
      "Processing record : tiksi\n",
      "Processing record : waycross\n",
      "Processing record : castro\n",
      "Processing record : luwuk\n",
      "Processing record : rochester\n",
      "Processing record : pundaguitan\n",
      "Processing record : ponta do sol\n",
      "Processing record : yellowknife\n",
      "Processing record : husavik\n",
      "Processing record : mahebourg\n",
      "Processing record : petropavlovsk-kamchatskiy\n",
      "Processing record : kholm\n",
      "Processing record : provideniya\n",
      "Processing record : qaanaaq\n",
      "Processing record : la ronge\n",
      "Processing record : abeche\n",
      "Processing record : tasiilaq\n",
      "Processing record : jamestown\n",
      "Processing record : dingle\n",
      "City not found. Skipping..\n",
      "Processing record : capari\n",
      "Processing record : santa maria la alta\n",
      "City not found. Skipping..\n",
      "Processing record : port blair\n",
      "Processing record : puerto baquerizo moreno\n",
      "City not found. Skipping..\n",
      "Processing record : guaruja\n",
      "Processing record : byron bay\n",
      "Processing record : pevek\n",
      "Processing record : khasan\n",
      "Processing record : limoeiro do ajuru\n",
      "Processing record : muravlenko\n",
      "Processing record : antalaha\n",
      "Processing record : sibolga\n",
      "Processing record : port hardy\n",
      "Processing record : havre-saint-pierre\n",
      "Processing record : nikolayevka\n",
      "Processing record : buritis\n",
      "Processing record : henderson\n",
      "Processing record : boa vista\n",
      "Processing record : rocha\n",
      "Processing record : hithadhoo\n",
      "Processing record : padang\n",
      "Processing record : haines junction\n",
      "Processing record : nikolskoye\n",
      "Processing record : harper\n",
      "Processing record : davila\n",
      "Processing record : korla\n",
      "City not found. Skipping..\n",
      "Processing record : laela\n",
      "Processing record : sochaczew\n",
      "Processing record : gao\n",
      "Processing record : zhangye\n",
      "Processing record : sokoni\n",
      "Processing record : jeremie\n",
      "Processing record : emerald\n",
      "Processing record : hami\n",
      "Processing record : comodoro rivadavia\n",
      "Processing record : wenling\n",
      "Processing record : cabra\n",
      "Processing record : college\n",
      "City not found. Skipping..\n",
      "Processing record : atar\n",
      "Processing record : dudinka\n",
      "Processing record : akdepe\n",
      "Processing record : bathsheba\n",
      "Processing record : kizukuri\n",
      "Processing record : alexandria\n",
      "Processing record : upernavik\n",
      "Processing record : lulea\n",
      "City not found. Skipping..\n",
      "Processing record : mount gambier\n",
      "City not found. Skipping..\n",
      "Processing record : marsa matruh\n",
      "Processing record : faanui\n",
      "Processing record : horta\n",
      "Processing record : ust-tsilma\n",
      "Processing record : javanrud\n",
      "City not found. Skipping..\n",
      "Processing record : alofi\n",
      "Processing record : chuy\n",
      "Processing record : bonavista\n",
      "Processing record : isangel\n",
      "Processing record : geraldton\n",
      "Processing record : ahipara\n",
      "Processing record : kaura namoda\n",
      "Processing record : aklavik\n",
      "Processing record : mountain home\n",
      "Processing record : margate\n",
      "Processing record : santiago de cao\n",
      "City not found. Skipping..\n",
      "Processing record : oriximina\n",
      "Processing record : giresun\n",
      "Processing record : saint paul\n",
      "Processing record : akyab\n",
      "Processing record : chlorakas\n",
      "Processing record : fukue\n",
      "Processing record : minsk\n",
      "Processing record : bahia honda\n",
      "City not found. Skipping..\n"
     ]
    },
    {
     "name": "stdout",
     "output_type": "stream",
     "text": [
      "Processing record : gamba\n",
      "Processing record : kidal\n",
      "Processing record : pangnirtung\n",
      "City not found. Skipping..\n",
      "Processing record : kamalasai\n",
      "Processing record : lagoa\n",
      "Processing record : kuytun\n",
      "Processing record : panjab\n",
      "Processing record : notre-dame-du-lac\n",
      "Processing record : tuatapere\n",
      "Processing record : urumqi\n",
      "Processing record : katsuura\n",
      "City not found. Skipping..\n",
      "Processing record : yumen\n",
      "Processing record : senno\n",
      "City not found. Skipping..\n",
      "City not found. Skipping..\n",
      "Processing record : launceston\n",
      "Processing record : zittau\n",
      "Processing record : lieto\n",
      "Processing record : sinnamary\n",
      "Processing record : kiunga\n",
      "Processing record : new norfolk\n",
      "Processing record : dong hoi\n",
      "Processing record : stephenville\n",
      "Processing record : port lincoln\n",
      "City not found. Skipping..\n",
      "Processing record : ngorongoro\n",
      "Processing record : esperance\n",
      "Processing record : galle\n",
      "Processing record : valparaiso\n",
      "Processing record : locri\n",
      "Processing record : ngunguru\n",
      "Processing record : belyy yar\n",
      "Processing record : vila franca do campo\n",
      "Processing record : lodja\n",
      "Processing record : aban\n",
      "Processing record : pisco\n",
      "Processing record : banda aceh\n",
      "Processing record : lasa\n",
      "Processing record : slave lake\n",
      "Processing record : ossora\n",
      "Processing record : owo\n",
      "Processing record : payo\n",
      "Processing record : jiexiu\n",
      "Processing record : broome\n",
      "Processing record : florida\n",
      "City not found. Skipping..\n",
      "Processing record : portobelo\n",
      "Processing record : naliya\n",
      "Processing record : norman wells\n",
      "Processing record : chambar\n",
      "Processing record : bowen\n",
      "Processing record : pecos\n",
      "Processing record : hannibal\n",
      "Processing record : coronel bogado\n",
      "City not found. Skipping..\n",
      "Processing record : sur\n",
      "Processing record : yar-sale\n",
      "Processing record : renqiu\n",
      "Processing record : kawalu\n",
      "Processing record : asosa\n",
      "Processing record : rovaniemi\n",
      "Processing record : tianpeng\n",
      "Processing record : kargalinskaya\n",
      "Processing record : santa rosa\n",
      "City not found. Skipping..\n",
      "Processing record : nhulunbuy\n",
      "Processing record : riyadh\n",
      "Processing record : bollnas\n",
      "Processing record : zahir pir\n",
      "Processing record : iberia\n",
      "Processing record : megion\n",
      "Processing record : ancud\n",
      "Processing record : manono\n",
      "Processing record : darapidap\n",
      "Processing record : tiznit\n",
      "Processing record : san quintin\n",
      "Processing record : pangobilian\n",
      "Processing record : kaeo\n",
      "Processing record : palaikastron\n",
      "Processing record : kamskoye ustye\n",
      "Processing record : sechura\n",
      "Processing record : cercal\n",
      "Processing record : baoying\n",
      "Processing record : pamanukan\n",
      "Processing record : vostok\n",
      "Processing record : mirpur mathelo\n",
      "Processing record : skopin\n",
      "Processing record : vao\n",
      "Processing record : jardim\n",
      "Processing record : bardiyah\n",
      "Processing record : blois\n",
      "Processing record : kandrian\n",
      "Processing record : zhigansk\n",
      "City not found. Skipping..\n",
      "Processing record : harpalpur\n",
      "Processing record : yuci\n",
      "Processing record : kalmunai\n",
      "City not found. Skipping..\n",
      "Processing record : tazovskiy\n",
      "Processing record : hovd\n",
      "Processing record : bodden town\n",
      "Processing record : minsk mazowiecki\n",
      "Processing record : bathurst\n",
      "Processing record : matara\n",
      "Processing record : hastings\n",
      "City not found. Skipping..\n",
      "Processing record : kieta\n",
      "Processing record : turbat\n",
      "Processing record : njombe\n",
      "Processing record : the pas\n",
      "Processing record : savannah bight\n",
      "Processing record : ixtapa\n",
      "Processing record : hohhot\n",
      "Processing record : seoul\n",
      "Processing record : noumea\n",
      "Processing record : saint-joseph\n",
      "Processing record : aksu\n",
      "Processing record : mattru\n",
      "Processing record : abu samrah\n",
      "Processing record : opotiki\n",
      "Processing record : douglas\n",
      "Processing record : shu\n",
      "Processing record : ocampo\n",
      "Processing record : olafsvik\n",
      "Processing record : edd\n",
      "Processing record : palana\n",
      "Processing record : tucupita\n",
      "Processing record : solnechnyy\n",
      "City not found. Skipping..\n",
      "Processing record : westland\n",
      "Processing record : puga\n",
      "Processing record : kabo\n",
      "Processing record : bharatpur\n",
      "Processing record : komsomolskiy\n",
      "Processing record : lebu\n",
      "Processing record : marrakesh\n",
      "Processing record : neiafu\n",
      "Processing record : pemangkat\n",
      "Processing record : kununurra\n",
      "Processing record : naze\n",
      "Processing record : tukrah\n",
      "Processing record : eustis\n",
      "Processing record : camacha\n",
      "Processing record : jose de freitas\n",
      "Processing record : saint-georges\n",
      "Processing record : aksay\n",
      "Processing record : kavieng\n",
      "Processing record : jiwani\n",
      "Processing record : presidente epitacio\n",
      "Processing record : nanortalik\n",
      "Processing record : gat\n",
      "Processing record : torbay\n",
      "Processing record : miri\n",
      "Processing record : tilichiki\n",
      "Processing record : la rioja\n",
      "Processing record : muros\n",
      "Processing record : miracema do tocantins\n",
      "Processing record : constitucion\n",
      "Processing record : changli\n",
      "Processing record : cherskiy\n",
      "Processing record : klaksvik\n",
      "Processing record : ilulissat\n",
      "Processing record : santa ana arriba\n",
      "Processing record : sao filipe\n",
      "City not found. Skipping..\n",
      "Processing record : fortuna\n",
      "Processing record : san carlos\n",
      "Processing record : chongwe\n",
      "Processing record : kerman\n",
      "City not found. Skipping..\n",
      "Processing record : looc\n",
      "Processing record : azuqueca de henares\n",
      "Processing record : coihaique\n",
      "Processing record : vuyyuru\n",
      "Processing record : port hedland\n",
      "Processing record : manaure\n",
      "Processing record : maceio\n",
      "City not found. Skipping..\n",
      "Processing record : yining\n",
      "Processing record : laredo\n",
      "Processing record : sorland\n",
      "Processing record : piacabucu\n",
      "Processing record : danielskuil\n",
      "Processing record : fredonia\n",
      "Processing record : nemuro\n",
      "Processing record : oga\n",
      "City not found. Skipping..\n",
      "Processing record : hailey\n",
      "Processing record : tabou\n",
      "Processing record : srednekolymsk\n",
      "Processing record : yakeshi\n",
      "Processing record : lensk\n",
      "Processing record : turiacu\n",
      "Processing record : kungurtug\n",
      "Processing record : cidreira\n",
      "Processing record : kyren\n",
      "Processing record : coquimbo\n",
      "Processing record : okhotsk\n",
      "Processing record : domoni\n",
      "Processing record : ransang\n",
      "City not found. Skipping..\n",
      "Processing record : yarmouth\n",
      "Processing record : broken hill\n",
      "Processing record : damara\n",
      "Processing record : sao gabriel da cachoeira\n",
      "Processing record : lahad datu\n",
      "Processing record : jacareacanga\n",
      "Processing record : iturama\n",
      "City not found. Skipping..\n",
      "Processing record : poddorye\n",
      "City not found. Skipping..\n",
      "Processing record : northampton\n",
      "Processing record : zaragoza\n",
      "Processing record : guarapari\n",
      "Processing record : te anau\n",
      "City not found. Skipping..\n",
      "Processing record : fomboni\n",
      "Processing record : tura\n",
      "Processing record : palmer\n",
      "Processing record : boda\n",
      "Processing record : toktogul\n",
      "Processing record : plettenberg bay\n",
      "Processing record : brae\n",
      "Processing record : balao\n",
      "Processing record : potsdam\n",
      "Processing record : conneaut\n",
      "Processing record : wang saphung\n",
      "Processing record : enterprise\n",
      "Processing record : kutum\n",
      "Processing record : vestmannaeyjar\n",
      "Processing record : itarema\n",
      "Processing record : altay\n",
      "Processing record : doume\n",
      "Processing record : beloha\n",
      "Processing record : bouna\n",
      "Processing record : sao jose da coroa grande\n",
      "Processing record : cockburn town\n",
      "Processing record : hualmay\n",
      "Processing record : hambantota\n",
      "Processing record : santana do acarau\n",
      "City not found. Skipping..\n",
      "Processing record : bambanglipuro\n",
      "Processing record : atyrau\n",
      "City not found. Skipping..\n",
      "Processing record : naryan-mar\n",
      "Processing record : pingliang\n",
      "Processing record : richards bay\n",
      "Processing record : gillette\n",
      "Processing record : banepa\n",
      "Processing record : matay\n",
      "Processing record : ndele\n",
      "Processing record : sao joao da barra\n",
      "City not found. Skipping..\n",
      "Processing record : nueva loja\n",
      "Processing record : aripuana\n",
      "City not found. Skipping..\n",
      "Processing record : kozhva\n",
      "Processing record : gumdag\n",
      "Processing record : melilla\n",
      "Processing record : marawi\n",
      "Processing record : vila velha\n",
      "Processing record : brownsville\n",
      "Processing record : san cristobal\n",
      "Processing record : northam\n",
      "City not found. Skipping..\n",
      "Processing record : villazon\n",
      "City not found. Skipping..\n",
      "Processing record : kwinana\n",
      "Processing record : jati\n",
      "Processing record : ponta delgada\n",
      "Processing record : batagay-alyta\n",
      "Processing record : westport\n",
      "Processing record : flin flon\n",
      "Processing record : ranfurly\n",
      "Processing record : fredericksburg\n",
      "Processing record : batemans bay\n",
      "Processing record : sterling\n",
      "Processing record : kumluca\n",
      "Processing record : yaan\n",
      "Processing record : uhlove\n",
      "Processing record : kishi\n",
      "Processing record : smirnykh\n",
      "Processing record : hornepayne\n"
     ]
    },
    {
     "name": "stdout",
     "output_type": "stream",
     "text": [
      "Processing record : sal rei\n",
      "Processing record : mhlambanyatsi\n",
      "Processing record : callaguip\n",
      "Processing record : chimbote\n",
      "Processing record : acapulco\n",
      "Processing record : rajshahi\n",
      "Processing record : nampula\n",
      "Processing record : chapais\n",
      "Processing record : iquitos\n",
      "Processing record : strezhevoy\n",
      "Processing record : porto santo\n",
      "Processing record : qaqortoq\n",
      "Processing record : tautira\n",
      "Processing record : laerdalsoyri\n",
      "Processing record : santa maria\n",
      "Processing record : bure\n",
      "Processing record : chekmagush\n",
      "Processing record : thunder bay\n",
      "Processing record : porbandar\n",
      "Processing record : khuzhir\n",
      "Processing record : mudgee\n",
      "Processing record : beira\n",
      "Processing record : qinhuangdao\n",
      "Processing record : redmond\n",
      "Processing record : bose\n",
      "Processing record : portage\n",
      "Processing record : kachiry\n",
      "Processing record : poum\n",
      "Processing record : marystown\n",
      "Processing record : chicama\n",
      "Processing record : asau\n",
      "Processing record : lhokseumawe\n",
      "Processing record : ulaangom\n",
      "Processing record : ostrovnoy\n",
      "Processing record : henties bay\n",
      "Processing record : chirongui\n",
      "Processing record : burnie\n",
      "Processing record : salinopolis\n"
     ]
    },
    {
     "name": "stderr",
     "output_type": "stream",
     "text": [
      "<ipython-input-6-19a958c17082>:59: SettingWithCopyWarning: \n",
      "A value is trying to be set on a copy of a slice from a DataFrame.\n",
      "Try using .loc[row_indexer,col_indexer] = value instead\n",
      "\n",
      "See the caveats in the documentation: https://pandas.pydata.org/pandas-docs/stable/user_guide/indexing.html#returning-a-view-versus-a-copy\n",
      "  cities_df[\"Latitude\"] = latitude\n",
      "<ipython-input-6-19a958c17082>:60: SettingWithCopyWarning: \n",
      "A value is trying to be set on a copy of a slice from a DataFrame.\n",
      "Try using .loc[row_indexer,col_indexer] = value instead\n",
      "\n",
      "See the caveats in the documentation: https://pandas.pydata.org/pandas-docs/stable/user_guide/indexing.html#returning-a-view-versus-a-copy\n",
      "  cities_df[\"Longitude\"] = longitude\n",
      "<ipython-input-6-19a958c17082>:63: SettingWithCopyWarning: \n",
      "A value is trying to be set on a copy of a slice from a DataFrame.\n",
      "Try using .loc[row_indexer,col_indexer] = value instead\n",
      "\n",
      "See the caveats in the documentation: https://pandas.pydata.org/pandas-docs/stable/user_guide/indexing.html#returning-a-view-versus-a-copy\n",
      "  cities_df[\"Temp\"] = temperature\n",
      "<ipython-input-6-19a958c17082>:64: SettingWithCopyWarning: \n",
      "A value is trying to be set on a copy of a slice from a DataFrame.\n",
      "Try using .loc[row_indexer,col_indexer] = value instead\n",
      "\n",
      "See the caveats in the documentation: https://pandas.pydata.org/pandas-docs/stable/user_guide/indexing.html#returning-a-view-versus-a-copy\n",
      "  cities_df[\"Humidity\"] = humidity\n",
      "<ipython-input-6-19a958c17082>:65: SettingWithCopyWarning: \n",
      "A value is trying to be set on a copy of a slice from a DataFrame.\n",
      "Try using .loc[row_indexer,col_indexer] = value instead\n",
      "\n",
      "See the caveats in the documentation: https://pandas.pydata.org/pandas-docs/stable/user_guide/indexing.html#returning-a-view-versus-a-copy\n",
      "  cities_df[\"Wind Speed\"] = wind_speed\n",
      "<ipython-input-6-19a958c17082>:66: SettingWithCopyWarning: \n",
      "A value is trying to be set on a copy of a slice from a DataFrame.\n",
      "Try using .loc[row_indexer,col_indexer] = value instead\n",
      "\n",
      "See the caveats in the documentation: https://pandas.pydata.org/pandas-docs/stable/user_guide/indexing.html#returning-a-view-versus-a-copy\n",
      "  cities_df[\"Cloudiness\"] = cloudiness\n",
      "<ipython-input-6-19a958c17082>:67: SettingWithCopyWarning: \n",
      "A value is trying to be set on a copy of a slice from a DataFrame.\n",
      "Try using .loc[row_indexer,col_indexer] = value instead\n",
      "\n",
      "See the caveats in the documentation: https://pandas.pydata.org/pandas-docs/stable/user_guide/indexing.html#returning-a-view-versus-a-copy\n",
      "  cities_df[\"Date\"] = dates\n"
     ]
    }
   ],
   "source": [
    "latitude = []\n",
    "longitude = []\n",
    "temperature = []\n",
    "humidity = []\n",
    "cloudiness = []\n",
    "wind_speed = []\n",
    "dates = []\n",
    "\n",
    "units = \"imperial\"\n",
    "\n",
    "url = \"http://api.openweathermap.org/data/2.5/weather?\"\n",
    "\n",
    "query_url = f\"{url}appid={weather_api_key}&units={units}&q=\"\n",
    "\n",
    "    \n",
    "for index, row in cities_df.iterrows():\n",
    "    currentcity = row[\"City\"]\n",
    "    response = requests.get(query_url + currentcity).json()\n",
    "\n",
    "    # if city is in the city list of wrapper then get the data otherwise print the message of missing city.\n",
    "    try:\n",
    "        temperature.append(response[\"main\"][\"temp_max\"])\n",
    "        latitude.append(response[\"coord\"][\"lat\"])\n",
    "        longitude.append(response[\"coord\"][\"lon\"])\n",
    "        humidity.append(response[\"main\"][\"humidity\"])\n",
    "        wind_speed.append(response[\"wind\"][\"speed\"])\n",
    "        cloudiness.append(response[\"clouds\"][\"all\"])\n",
    "        dates.append(response[\"dt\"])\n",
    "        print(f\"Processing record : {currentcity}\")\n",
    "    \n",
    "             # Some of the cities we generate don't have data in openweathermap, so set their values to numpy's NaN    \n",
    "    except KeyError:\n",
    "        temperature.append(np.nan)\n",
    "        latitude.append(np.nan)\n",
    "        longitude.append(np.nan)\n",
    "        humidity.append(np.nan)\n",
    "        wind_speed.append(np.nan)\n",
    "        cloudiness.append(np.nan)\n",
    "        dates.append(np.nan)\n",
    "        print(\"City not found. Skipping..\")    \n",
    "    \n",
    "#update latitude and longitude to actually match the city\n",
    "cities_df[\"Latitude\"] = latitude\n",
    "cities_df[\"Longitude\"] = longitude\n",
    "\n",
    "#add new information into the cities_df\n",
    "cities_df[\"Temp\"] = temperature\n",
    "cities_df[\"Humidity\"] = humidity\n",
    "cities_df[\"Wind Speed\"] = wind_speed\n",
    "cities_df[\"Cloudiness\"] = cloudiness\n",
    "cities_df[\"Date\"] = dates"
   ]
  },
  {
   "cell_type": "markdown",
   "metadata": {},
   "source": [
    "### Convert Raw Data to DataFrame\n",
    "* Export the city data into a .csv.\n",
    "* Display the DataFrame"
   ]
  },
  {
   "cell_type": "code",
   "execution_count": 38,
   "metadata": {},
   "outputs": [],
   "source": [
    "cities_df.head()\n",
    "len(cities_df)\n",
    "import os\n",
    "import csv\n",
    "output_data_file = \"output_data/cities.csv\"\n",
    "cities_df.to_csv(output_data_file)\n"
   ]
  },
  {
   "cell_type": "code",
   "execution_count": 8,
   "metadata": {},
   "outputs": [
    {
     "data": {
      "text/plain": [
       "Latitude      550\n",
       "Longitude     550\n",
       "City          601\n",
       "Temp          550\n",
       "Humidity      550\n",
       "Wind Speed    550\n",
       "Cloudiness    550\n",
       "Date          550\n",
       "dtype: int64"
      ]
     },
     "execution_count": 8,
     "metadata": {},
     "output_type": "execute_result"
    }
   ],
   "source": [
    "#check for missing data\n",
    "cities_df.count()"
   ]
  },
  {
   "cell_type": "code",
   "execution_count": 39,
   "metadata": {},
   "outputs": [
    {
     "data": {
      "text/plain": [
       "Latitude      550\n",
       "Longitude     550\n",
       "City          550\n",
       "Temp          550\n",
       "Humidity      550\n",
       "Wind Speed    550\n",
       "Cloudiness    550\n",
       "Date          550\n",
       "dtype: int64"
      ]
     },
     "execution_count": 39,
     "metadata": {},
     "output_type": "execute_result"
    }
   ],
   "source": [
    "#Remove rows missing data\n",
    "clean_df = cities_df.dropna(how=\"any\")\n",
    "clean_df.count()"
   ]
  },
  {
   "cell_type": "markdown",
   "metadata": {},
   "source": [
    "## Inspect the data and remove the cities where the humidity > 100%.\n",
    "----\n",
    "Skip this step if there are no cities that have humidity > 100%. "
   ]
  },
  {
   "cell_type": "code",
   "execution_count": 10,
   "metadata": {},
   "outputs": [
    {
     "data": {
      "text/plain": [
       "Latitude      0\n",
       "Longitude     0\n",
       "City          0\n",
       "Temp          0\n",
       "Humidity      0\n",
       "Wind Speed    0\n",
       "Cloudiness    0\n",
       "Date          0\n",
       "dtype: int64"
      ]
     },
     "execution_count": 10,
     "metadata": {},
     "output_type": "execute_result"
    }
   ],
   "source": [
    "high_humidity = clean_df.loc[clean_df[\"Humidity\"]>100]\n",
    "high_humidity.count()\n",
    "#No cities with 100% humidity!"
   ]
  },
  {
   "cell_type": "code",
   "execution_count": 11,
   "metadata": {},
   "outputs": [],
   "source": [
    "#  Get the indices of cities that have humidity over 100%.\n"
   ]
  },
  {
   "cell_type": "code",
   "execution_count": 12,
   "metadata": {},
   "outputs": [],
   "source": [
    "# Make a new DataFrame equal to the city data to drop all humidity outliers by index.\n",
    "# Passing \"inplace=False\" will make a copy of the city_data DataFrame, which we call \"clean_city_data\".\n"
   ]
  },
  {
   "cell_type": "code",
   "execution_count": 13,
   "metadata": {},
   "outputs": [
    {
     "data": {
      "text/html": [
       "<div>\n",
       "<style scoped>\n",
       "    .dataframe tbody tr th:only-of-type {\n",
       "        vertical-align: middle;\n",
       "    }\n",
       "\n",
       "    .dataframe tbody tr th {\n",
       "        vertical-align: top;\n",
       "    }\n",
       "\n",
       "    .dataframe thead th {\n",
       "        text-align: right;\n",
       "    }\n",
       "</style>\n",
       "<table border=\"1\" class=\"dataframe\">\n",
       "  <thead>\n",
       "    <tr style=\"text-align: right;\">\n",
       "      <th></th>\n",
       "      <th>Latitude</th>\n",
       "      <th>Longitude</th>\n",
       "      <th>City</th>\n",
       "      <th>Temp</th>\n",
       "      <th>Humidity</th>\n",
       "      <th>Wind Speed</th>\n",
       "      <th>Cloudiness</th>\n",
       "      <th>Date</th>\n",
       "    </tr>\n",
       "  </thead>\n",
       "  <tbody>\n",
       "    <tr>\n",
       "      <th>0</th>\n",
       "      <td>71.29</td>\n",
       "      <td>-156.79</td>\n",
       "      <td>barrow</td>\n",
       "      <td>24.80</td>\n",
       "      <td>68.0</td>\n",
       "      <td>13.87</td>\n",
       "      <td>90.0</td>\n",
       "      <td>1.604196e+09</td>\n",
       "    </tr>\n",
       "    <tr>\n",
       "      <th>1</th>\n",
       "      <td>44.36</td>\n",
       "      <td>77.98</td>\n",
       "      <td>saryozek</td>\n",
       "      <td>36.52</td>\n",
       "      <td>66.0</td>\n",
       "      <td>2.35</td>\n",
       "      <td>0.0</td>\n",
       "      <td>1.604196e+09</td>\n",
       "    </tr>\n",
       "    <tr>\n",
       "      <th>2</th>\n",
       "      <td>22.89</td>\n",
       "      <td>-109.91</td>\n",
       "      <td>cabo san lucas</td>\n",
       "      <td>80.60</td>\n",
       "      <td>74.0</td>\n",
       "      <td>5.82</td>\n",
       "      <td>20.0</td>\n",
       "      <td>1.604196e+09</td>\n",
       "    </tr>\n",
       "    <tr>\n",
       "      <th>3</th>\n",
       "      <td>42.60</td>\n",
       "      <td>-73.97</td>\n",
       "      <td>albany</td>\n",
       "      <td>35.01</td>\n",
       "      <td>84.0</td>\n",
       "      <td>5.01</td>\n",
       "      <td>0.0</td>\n",
       "      <td>1.604195e+09</td>\n",
       "    </tr>\n",
       "    <tr>\n",
       "      <th>4</th>\n",
       "      <td>69.30</td>\n",
       "      <td>139.90</td>\n",
       "      <td>deputatskiy</td>\n",
       "      <td>-9.62</td>\n",
       "      <td>90.0</td>\n",
       "      <td>5.37</td>\n",
       "      <td>85.0</td>\n",
       "      <td>1.604196e+09</td>\n",
       "    </tr>\n",
       "    <tr>\n",
       "      <th>...</th>\n",
       "      <td>...</td>\n",
       "      <td>...</td>\n",
       "      <td>...</td>\n",
       "      <td>...</td>\n",
       "      <td>...</td>\n",
       "      <td>...</td>\n",
       "      <td>...</td>\n",
       "      <td>...</td>\n",
       "    </tr>\n",
       "    <tr>\n",
       "      <th>1387</th>\n",
       "      <td>68.05</td>\n",
       "      <td>39.51</td>\n",
       "      <td>ostrovnoy</td>\n",
       "      <td>27.72</td>\n",
       "      <td>95.0</td>\n",
       "      <td>19.66</td>\n",
       "      <td>100.0</td>\n",
       "      <td>1.604196e+09</td>\n",
       "    </tr>\n",
       "    <tr>\n",
       "      <th>1391</th>\n",
       "      <td>-22.12</td>\n",
       "      <td>14.28</td>\n",
       "      <td>henties bay</td>\n",
       "      <td>55.00</td>\n",
       "      <td>93.0</td>\n",
       "      <td>5.01</td>\n",
       "      <td>67.0</td>\n",
       "      <td>1.604196e+09</td>\n",
       "    </tr>\n",
       "    <tr>\n",
       "      <th>1392</th>\n",
       "      <td>-12.93</td>\n",
       "      <td>45.15</td>\n",
       "      <td>chirongui</td>\n",
       "      <td>73.40</td>\n",
       "      <td>88.0</td>\n",
       "      <td>2.24</td>\n",
       "      <td>0.0</td>\n",
       "      <td>1.604196e+09</td>\n",
       "    </tr>\n",
       "    <tr>\n",
       "      <th>1394</th>\n",
       "      <td>-41.07</td>\n",
       "      <td>145.92</td>\n",
       "      <td>burnie</td>\n",
       "      <td>62.01</td>\n",
       "      <td>55.0</td>\n",
       "      <td>5.01</td>\n",
       "      <td>68.0</td>\n",
       "      <td>1.604196e+09</td>\n",
       "    </tr>\n",
       "    <tr>\n",
       "      <th>1396</th>\n",
       "      <td>-0.61</td>\n",
       "      <td>-47.36</td>\n",
       "      <td>salinopolis</td>\n",
       "      <td>80.47</td>\n",
       "      <td>81.0</td>\n",
       "      <td>12.97</td>\n",
       "      <td>12.0</td>\n",
       "      <td>1.604196e+09</td>\n",
       "    </tr>\n",
       "  </tbody>\n",
       "</table>\n",
       "<p>550 rows × 8 columns</p>\n",
       "</div>"
      ],
      "text/plain": [
       "      Latitude  Longitude            City   Temp  Humidity  Wind Speed  \\\n",
       "0        71.29    -156.79          barrow  24.80      68.0       13.87   \n",
       "1        44.36      77.98        saryozek  36.52      66.0        2.35   \n",
       "2        22.89    -109.91  cabo san lucas  80.60      74.0        5.82   \n",
       "3        42.60     -73.97          albany  35.01      84.0        5.01   \n",
       "4        69.30     139.90     deputatskiy  -9.62      90.0        5.37   \n",
       "...        ...        ...             ...    ...       ...         ...   \n",
       "1387     68.05      39.51       ostrovnoy  27.72      95.0       19.66   \n",
       "1391    -22.12      14.28     henties bay  55.00      93.0        5.01   \n",
       "1392    -12.93      45.15       chirongui  73.40      88.0        2.24   \n",
       "1394    -41.07     145.92          burnie  62.01      55.0        5.01   \n",
       "1396     -0.61     -47.36     salinopolis  80.47      81.0       12.97   \n",
       "\n",
       "      Cloudiness          Date  \n",
       "0           90.0  1.604196e+09  \n",
       "1            0.0  1.604196e+09  \n",
       "2           20.0  1.604196e+09  \n",
       "3            0.0  1.604195e+09  \n",
       "4           85.0  1.604196e+09  \n",
       "...          ...           ...  \n",
       "1387       100.0  1.604196e+09  \n",
       "1391        67.0  1.604196e+09  \n",
       "1392         0.0  1.604196e+09  \n",
       "1394        68.0  1.604196e+09  \n",
       "1396        12.0  1.604196e+09  \n",
       "\n",
       "[550 rows x 8 columns]"
      ]
     },
     "execution_count": 13,
     "metadata": {},
     "output_type": "execute_result"
    }
   ],
   "source": [
    "clean_df\n",
    "\n"
   ]
  },
  {
   "cell_type": "markdown",
   "metadata": {},
   "source": [
    "## Plotting the Data\n",
    "* Use proper labeling of the plots using plot titles (including date of analysis) and axes labels.\n",
    "* Save the plotted figures as .pngs."
   ]
  },
  {
   "cell_type": "markdown",
   "metadata": {},
   "source": [
    "## Latitude vs. Temperature Plot"
   ]
  },
  {
   "cell_type": "code",
   "execution_count": 14,
   "metadata": {
    "scrolled": true
   },
   "outputs": [
    {
     "data": {
      "image/png": "[encoded data removed]",
      "text/plain": [
       "<Figure size 432x288 with 1 Axes>"
      ]
     },
     "metadata": {
      "needs_background": "light"
     },
     "output_type": "display_data"
    },
    {
     "data": {
      "text/plain": [
       "<Figure size 432x288 with 0 Axes>"
      ]
     },
     "metadata": {},
     "output_type": "display_data"
    }
   ],
   "source": [
    "lat = clean_df[\"Latitude\"]\n",
    "temp = clean_df[\"Temp\"]\n",
    "plt.scatter(lat,temp)\n",
    "plt.xlabel(\"Degrees of Latitude\")\n",
    "plt.ylabel(\"Temperature (F)\")\n",
    "plt.title(\"A Comparison of Temperature at Various Degrees of Latitude 10-31-20\")\n",
    "plt.show()\n",
    "plt.savefig(\"output_data/latitude_temp.png\")"
   ]
  },
  {
   "cell_type": "code",
   "execution_count": 15,
   "metadata": {},
   "outputs": [
    {
     "name": "stdout",
     "output_type": "stream",
     "text": [
      "The correlation coefficient between latitude and temperature is -0.66\n"
     ]
    }
   ],
   "source": [
    "import scipy.stats as st\n",
    "print(f\"The correlation coefficient between latitude and temperature is {round(st.pearsonr(lat,temp)[0],2)}\")"
   ]
  },
  {
   "cell_type": "code",
   "execution_count": 16,
   "metadata": {},
   "outputs": [],
   "source": [
    "#This plot shows that temperatures decrease at greater distance from the equator. Temperatures are lower north of the equator."
   ]
  },
  {
   "cell_type": "markdown",
   "metadata": {},
   "source": [
    "## Latitude vs. Humidity Plot"
   ]
  },
  {
   "cell_type": "code",
   "execution_count": 17,
   "metadata": {},
   "outputs": [
    {
     "data": {
      "image/png": "[encoded data removed]",
      "text/plain": [
       "<Figure size 432x288 with 1 Axes>"
      ]
     },
     "metadata": {
      "needs_background": "light"
     },
     "output_type": "display_data"
    },
    {
     "data": {
      "text/plain": [
       "<Figure size 432x288 with 0 Axes>"
      ]
     },
     "metadata": {},
     "output_type": "display_data"
    }
   ],
   "source": [
    "lat = clean_df[\"Latitude\"]\n",
    "humidity = clean_df[\"Humidity\"]\n",
    "plt.scatter(lat,humidity)\n",
    "plt.xlabel(\"Degrees of Latitude\")\n",
    "plt.ylabel(\"Percent Humidity\")\n",
    "plt.title(\"Percent Humidity at Various Degrees of Latitude 10-31-20\")\n",
    "plt.show()\n",
    "plt.savefig(\"output_data/latitude_humidity.png\")"
   ]
  },
  {
   "cell_type": "code",
   "execution_count": 18,
   "metadata": {},
   "outputs": [
    {
     "name": "stdout",
     "output_type": "stream",
     "text": [
      "The correlation coefficient between latitude and humidity is 0.12\n"
     ]
    }
   ],
   "source": [
    "print(f\"The correlation coefficient between latitude and humidity is {round(st.pearsonr(lat,humidity)[0],2)}\")"
   ]
  },
  {
   "cell_type": "code",
   "execution_count": 19,
   "metadata": {},
   "outputs": [],
   "source": [
    "#Latitudinal position does not have a big effect on percent humidity. However between 60 and 80 degrees of latitude, there seems to be a pocket of higher humidity."
   ]
  },
  {
   "cell_type": "markdown",
   "metadata": {},
   "source": [
    "## Latitude vs. Cloudiness Plot"
   ]
  },
  {
   "cell_type": "code",
   "execution_count": 20,
   "metadata": {
    "scrolled": true
   },
   "outputs": [
    {
     "data": {
      "image/png": "[encoded data removed]",
      "text/plain": [
       "<Figure size 432x288 with 1 Axes>"
      ]
     },
     "metadata": {
      "needs_background": "light"
     },
     "output_type": "display_data"
    },
    {
     "data": {
      "text/plain": [
       "<Figure size 432x288 with 0 Axes>"
      ]
     },
     "metadata": {},
     "output_type": "display_data"
    }
   ],
   "source": [
    "lat = clean_df[\"Latitude\"]\n",
    "cloud = clean_df[\"Cloudiness\"]\n",
    "plt.scatter(lat,cloud)\n",
    "plt.xlabel(\"Degrees of Latitude\")\n",
    "plt.ylabel(\"Cloudiness\")\n",
    "plt.title(\"Percent Cloudcover at Various Degrees of Latitude 10-31-20\")\n",
    "plt.show()\n",
    "plt.savefig(\"output_data/latitude_cloudiness.png\")"
   ]
  },
  {
   "cell_type": "code",
   "execution_count": 21,
   "metadata": {},
   "outputs": [
    {
     "name": "stdout",
     "output_type": "stream",
     "text": [
      "The correlation coefficient between latitude and humidity is 0.06\n"
     ]
    }
   ],
   "source": [
    "print(f\"The correlation coefficient between latitude and humidity is {round(st.pearsonr(lat,cloud)[0],2)}\")"
   ]
  },
  {
   "cell_type": "code",
   "execution_count": 22,
   "metadata": {},
   "outputs": [],
   "source": [
    "#The percent cloudiness seems pretty evenly dispersed. There also seems to be a cluster around 50 to 80 degrees, but not sure if I just have a bunch of cities in that area."
   ]
  },
  {
   "cell_type": "markdown",
   "metadata": {},
   "source": [
    "## Latitude vs. Wind Speed Plot"
   ]
  },
  {
   "cell_type": "code",
   "execution_count": 23,
   "metadata": {},
   "outputs": [
    {
     "data": {
      "image/png": "[encoded data removed]",
      "text/plain": [
       "<Figure size 432x288 with 1 Axes>"
      ]
     },
     "metadata": {
      "needs_background": "light"
     },
     "output_type": "display_data"
    },
    {
     "data": {
      "text/plain": [
       "<Figure size 432x288 with 0 Axes>"
      ]
     },
     "metadata": {},
     "output_type": "display_data"
    }
   ],
   "source": [
    "lat = clean_df[\"Latitude\"]\n",
    "wind = clean_df[\"Wind Speed\"]\n",
    "plt.scatter(lat,wind)\n",
    "plt.xlabel(\"Degrees of Latitude\")\n",
    "plt.ylabel(\"Wind Speed (mph)\")\n",
    "plt.title(\"Wind Speed at Various Degrees of Latitude 10-31-20\")\n",
    "plt.show()\n",
    "plt.savefig(\"output_data/latitude_wind.png\")"
   ]
  },
  {
   "cell_type": "code",
   "execution_count": 24,
   "metadata": {},
   "outputs": [
    {
     "name": "stdout",
     "output_type": "stream",
     "text": [
      "The correlation coefficient between latitude and wind speed is 0.08\n"
     ]
    }
   ],
   "source": [
    "print(f\"The correlation coefficient between latitude and wind speed is {round(st.pearsonr(lat,wind)[0],2)}\")"
   ]
  },
  {
   "cell_type": "code",
   "execution_count": 25,
   "metadata": {},
   "outputs": [],
   "source": [
    "#Wind speed does not seem to be affected by the latitudinal position of the city."
   ]
  },
  {
   "cell_type": "markdown",
   "metadata": {},
   "source": [
    "## Linear Regression"
   ]
  },
  {
   "cell_type": "code",
   "execution_count": 26,
   "metadata": {},
   "outputs": [],
   "source": [
    "from scipy.stats import linregress"
   ]
  },
  {
   "cell_type": "code",
   "execution_count": 27,
   "metadata": {},
   "outputs": [
    {
     "name": "stdout",
     "output_type": "stream",
     "text": [
      "The r-squared is: 0.7814551908944267\n"
     ]
    },
    {
     "data": {
      "image/png": "[encoded data removed]",
      "text/plain": [
       "<Figure size 432x288 with 1 Axes>"
      ]
     },
     "metadata": {
      "needs_background": "light"
     },
     "output_type": "display_data"
    }
   ],
   "source": [
    "north = clean_df.loc[clean_df[\"Latitude\"]>=0]\n",
    "\n",
    "x_values = north[\"Latitude\"]\n",
    "y_values = north[\"Temp\"]\n",
    "(slope, intercept, rvalue, pvalue, stderr) = linregress(x_values, y_values)\n",
    "regress_values = x_values * slope + intercept\n",
    "line_eq = \"y = \" + str(round(slope,2)) + \"x + \" + str(round(intercept,2))\n",
    "plt.scatter(x_values,y_values)\n",
    "plt.plot(x_values,regress_values,\"r-\")\n",
    "plt.annotate(line_eq,(5,10),fontsize=15,color=\"red\")\n",
    "plt.xlabel(\"Degrees of Latitude\")\n",
    "plt.ylabel(\"Max Temp (F)\")\n",
    "plt.title(\"Northern Hemisphere Max Temp vs Latitude 10-31-20\")\n",
    "print(f\"The r-squared is: {rvalue**2}\")\n",
    "plt.show()"
   ]
  },
  {
   "cell_type": "markdown",
   "metadata": {},
   "source": [
    "####  Northern Hemisphere - Max Temp vs. Latitude Linear Regression"
   ]
  },
  {
   "cell_type": "markdown",
   "metadata": {},
   "source": [
    "####  Southern Hemisphere - Max Temp vs. Latitude Linear Regression"
   ]
  },
  {
   "cell_type": "code",
   "execution_count": 28,
   "metadata": {},
   "outputs": [
    {
     "name": "stdout",
     "output_type": "stream",
     "text": [
      "The r-squared is: 0.3625410582749434\n"
     ]
    },
    {
     "data": {
      "image/png": "[encoded data removed]",
      "text/plain": [
       "<Figure size 432x288 with 1 Axes>"
      ]
     },
     "metadata": {
      "needs_background": "light"
     },
     "output_type": "display_data"
    }
   ],
   "source": [
    "south = clean_df.loc[clean_df[\"Latitude\"]<0]\n",
    "\n",
    "x_values = south[\"Latitude\"]\n",
    "y_values = south[\"Temp\"]\n",
    "(slope, intercept, rvalue, pvalue, stderr) = linregress(x_values, y_values)\n",
    "regress_values = x_values * slope + intercept\n",
    "line_eq = \"y = \" + str(round(slope,2)) + \"x + \" + str(round(intercept,2))\n",
    "plt.scatter(x_values,y_values)\n",
    "plt.plot(x_values,regress_values,\"r-\")\n",
    "plt.annotate(line_eq,(-25,40),fontsize=15,color=\"red\")\n",
    "plt.xlabel(\"Degrees of Latitude\")\n",
    "plt.ylabel(\"Max Temp (F)\")\n",
    "plt.title(\"Southern Hemisphere Max Temp vs Latitude 10-31-20\")\n",
    "print(f\"The r-squared is: {rvalue**2}\")\n",
    "plt.show()"
   ]
  },
  {
   "cell_type": "markdown",
   "metadata": {},
   "source": [
    "####  Northern Hemisphere - Humidity (%) vs. Latitude Linear Regression"
   ]
  },
  {
   "cell_type": "code",
   "execution_count": 29,
   "metadata": {},
   "outputs": [
    {
     "name": "stdout",
     "output_type": "stream",
     "text": [
      "The r-squared is: 0.04834193261028287\n"
     ]
    },
    {
     "data": {
      "image/png": "[encoded data removed]",
      "text/plain": [
       "<Figure size 432x288 with 1 Axes>"
      ]
     },
     "metadata": {
      "needs_background": "light"
     },
     "output_type": "display_data"
    }
   ],
   "source": [
    "north = clean_df.loc[clean_df[\"Latitude\"]>=0]\n",
    "\n",
    "x_values = north[\"Latitude\"]\n",
    "y_values = north[\"Humidity\"]\n",
    "(slope, intercept, rvalue, pvalue, stderr) = linregress(x_values, y_values)\n",
    "regress_values = x_values * slope + intercept\n",
    "line_eq = \"y = \" + str(round(slope,2)) + \"x + \" + str(round(intercept,2))\n",
    "plt.scatter(x_values,y_values)\n",
    "plt.plot(x_values,regress_values,\"r-\")\n",
    "plt.annotate(line_eq,(40,10),fontsize=15,color=\"red\")\n",
    "plt.xlabel(\"Degrees of Latitude\")\n",
    "plt.ylabel(\"Humidity (%)\")\n",
    "plt.title(\"Northern Hemisphere Humidity (%) vs Latitude 10-31-20\")\n",
    "print(f\"The r-squared is: {rvalue**2}\")\n",
    "plt.show()"
   ]
  },
  {
   "cell_type": "markdown",
   "metadata": {},
   "source": [
    "####  Southern Hemisphere - Humidity (%) vs. Latitude Linear Regression"
   ]
  },
  {
   "cell_type": "code",
   "execution_count": 30,
   "metadata": {},
   "outputs": [
    {
     "name": "stdout",
     "output_type": "stream",
     "text": [
      "The r-squared is: 0.016762424586582128\n"
     ]
    },
    {
     "data": {
      "image/png": "[encoded data removed]",
      "text/plain": [
       "<Figure size 432x288 with 1 Axes>"
      ]
     },
     "metadata": {
      "needs_background": "light"
     },
     "output_type": "display_data"
    }
   ],
   "source": [
    "x_values = south[\"Latitude\"]\n",
    "y_values = south[\"Humidity\"]\n",
    "(slope, intercept, rvalue, pvalue, stderr) = linregress(x_values, y_values)\n",
    "regress_values = x_values * slope + intercept\n",
    "line_eq = \"y = \" + str(round(slope,2)) + \"x + \" + str(round(intercept,2))\n",
    "plt.scatter(x_values,y_values)\n",
    "plt.plot(x_values,regress_values,\"r-\")\n",
    "plt.annotate(line_eq,(-25,40),fontsize=15,color=\"red\")\n",
    "plt.xlabel(\"Degrees of Latitude\")\n",
    "plt.ylabel(\"Humidity (%)\")\n",
    "plt.title(\"Southern Hemisphere Humidity (%) vs Latitude 10-31-20\")\n",
    "print(f\"The r-squared is: {rvalue**2}\")\n",
    "plt.show()"
   ]
  },
  {
   "cell_type": "markdown",
   "metadata": {},
   "source": [
    "####  Northern Hemisphere - Cloudiness (%) vs. Latitude Linear Regression"
   ]
  },
  {
   "cell_type": "code",
   "execution_count": 31,
   "metadata": {},
   "outputs": [
    {
     "name": "stdout",
     "output_type": "stream",
     "text": [
      "The r-squared is: 0.0015521798496447112\n"
     ]
    },
    {
     "data": {
      "image/png": "[encoded data removed]",
      "text/plain": [
       "<Figure size 432x288 with 1 Axes>"
      ]
     },
     "metadata": {
      "needs_background": "light"
     },
     "output_type": "display_data"
    }
   ],
   "source": [
    "x_values = north[\"Latitude\"]\n",
    "y_values = north[\"Cloudiness\"]\n",
    "(slope, intercept, rvalue, pvalue, stderr) = linregress(x_values, y_values)\n",
    "regress_values = x_values * slope + intercept\n",
    "line_eq = \"y = \" + str(round(slope,2)) + \"x + \" + str(round(intercept,2))\n",
    "plt.scatter(x_values,y_values)\n",
    "plt.plot(x_values,regress_values,\"r-\")\n",
    "plt.annotate(line_eq,(40,10),fontsize=15,color=\"red\")\n",
    "plt.xlabel(\"Degrees of Latitude\")\n",
    "plt.ylabel(\"Cloudiness (%)\")\n",
    "plt.title(\"Northern Hemisphere Cloudiness (%) vs Latitude 10-31-20\")\n",
    "print(f\"The r-squared is: {rvalue**2}\")\n",
    "plt.show()"
   ]
  },
  {
   "cell_type": "markdown",
   "metadata": {},
   "source": [
    "####  Southern Hemisphere - Cloudiness (%) vs. Latitude Linear Regression"
   ]
  },
  {
   "cell_type": "code",
   "execution_count": 32,
   "metadata": {},
   "outputs": [
    {
     "name": "stdout",
     "output_type": "stream",
     "text": [
      "The r-squared is: 0.03619880260744186\n"
     ]
    },
    {
     "data": {
      "image/png": "[encoded data removed]",
      "text/plain": [
       "<Figure size 432x288 with 1 Axes>"
      ]
     },
     "metadata": {
      "needs_background": "light"
     },
     "output_type": "display_data"
    }
   ],
   "source": [
    "x_values = south[\"Latitude\"]\n",
    "y_values = south[\"Cloudiness\"]\n",
    "(slope, intercept, rvalue, pvalue, stderr) = linregress(x_values, y_values)\n",
    "regress_values = x_values * slope + intercept\n",
    "line_eq = \"y = \" + str(round(slope,2)) + \"x + \" + str(round(intercept,2))\n",
    "plt.scatter(x_values,y_values)\n",
    "plt.plot(x_values,regress_values,\"r-\")\n",
    "plt.annotate(line_eq,(-55,25),fontsize=15,color=\"red\")\n",
    "plt.xlabel(\"Degrees of Latitude\")\n",
    "plt.ylabel(\"Cloudiness\")\n",
    "plt.title(\"Southern Hemisphere Percent Cloudiness vs Latitude 10-31-20\")\n",
    "print(f\"The r-squared is: {rvalue**2}\")\n",
    "plt.show()"
   ]
  },
  {
   "cell_type": "markdown",
   "metadata": {},
   "source": [
    "####  Northern Hemisphere - Wind Speed (mph) vs. Latitude Linear Regression"
   ]
  },
  {
   "cell_type": "code",
   "execution_count": 33,
   "metadata": {},
   "outputs": [
    {
     "name": "stdout",
     "output_type": "stream",
     "text": [
      "The r-squared is: 0.03515441396032839\n"
     ]
    },
    {
     "data": {
      "image/png": "[encoded data removed]",
      "text/plain": [
       "<Figure size 432x288 with 1 Axes>"
      ]
     },
     "metadata": {
      "needs_background": "light"
     },
     "output_type": "display_data"
    }
   ],
   "source": [
    "x_values = north[\"Latitude\"]\n",
    "y_values = north[\"Wind Speed\"]\n",
    "(slope, intercept, rvalue, pvalue, stderr) = linregress(x_values, y_values)\n",
    "regress_values = x_values * slope + intercept\n",
    "line_eq = \"y = \" + str(round(slope,2)) + \"x + \" + str(round(intercept,2))\n",
    "plt.scatter(x_values,y_values)\n",
    "plt.plot(x_values,regress_values,\"r-\")\n",
    "plt.annotate(line_eq,(5,25),fontsize=15,color=\"red\")\n",
    "plt.xlabel(\"Degrees of Latitude\")\n",
    "plt.ylabel(\"Wind Speed (mph)\")\n",
    "plt.title(\"Northern Hemisphere Wind Speed (mph) vs Latitude 10-31-20\")\n",
    "print(f\"The r-squared is: {rvalue**2}\")\n",
    "plt.show()"
   ]
  },
  {
   "cell_type": "markdown",
   "metadata": {},
   "source": [
    "####  Southern Hemisphere - Wind Speed (mph) vs. Latitude Linear Regression"
   ]
  },
  {
   "cell_type": "code",
   "execution_count": 34,
   "metadata": {},
   "outputs": [
    {
     "name": "stdout",
     "output_type": "stream",
     "text": [
      "The r-squared is: 0.012017008974981412\n"
     ]
    },
    {
     "data": {
      "image/png": "[encoded data removed]",
      "text/plain": [
       "<Figure size 432x288 with 1 Axes>"
      ]
     },
     "metadata": {
      "needs_background": "light"
     },
     "output_type": "display_data"
    }
   ],
   "source": [
    "x_values = south[\"Latitude\"]\n",
    "y_values = south[\"Wind Speed\"]\n",
    "(slope, intercept, rvalue, pvalue, stderr) = linregress(x_values, y_values)\n",
    "regress_values = x_values * slope + intercept\n",
    "line_eq = \"y = \" + str(round(slope,2)) + \"x + \" + str(round(intercept,2))\n",
    "plt.scatter(x_values,y_values)\n",
    "plt.plot(x_values,regress_values,\"r-\")\n",
    "plt.annotate(line_eq,(-55,20),fontsize=15,color=\"red\")\n",
    "plt.xlabel(\"Degrees of Latitude\")\n",
    "plt.ylabel(\"Wind Speed (mph)\")\n",
    "plt.title(\"Southern Hemisphere Wind Speed vs Latitude 10-31-20\")\n",
    "print(f\"The r-squared is: {rvalue**2}\")\n",
    "plt.show()"
   ]
  },
  {
   "cell_type": "code",
   "execution_count": null,
   "metadata": {},
   "outputs": [],
   "source": []
  }
 ],
 "metadata": {
  "anaconda-cloud": {},
  "kernel_info": {
   "name": "python3"
  },
  "kernelspec": {
   "display_name": "Python [conda env:root] *",
   "language": "python",
   "name": "conda-root-py"
  },
  "language_info": {
   "codemirror_mode": {
    "name": "ipython",
    "version": 3
   },
   "file_extension": ".py",
   "mimetype": "text/x-python",
   "name": "python",
   "nbconvert_exporter": "python",
   "pygments_lexer": "ipython3",
   "version": "3.8.3"
  },
  "latex_envs": {
   "LaTeX_envs_menu_present": true,
   "autoclose": false,
   "autocomplete": true,
   "bibliofile": "biblio.bib",
   "cite_by": "apalike",
   "current_citInitial": 1,
   "eqLabelWithNumbers": true,
   "eqNumInitial": 1,
   "hotkeys": {
    "equation": "Ctrl-E",
    "itemize": "Ctrl-I"
   },
   "labels_anchors": false,
   "latex_user_defs": false,
   "report_style_numbering": false,
   "user_envs_cfg": false
  },
  "nteract": {
   "version": "0.12.3"
  }
 },
 "nbformat": 4,
 "nbformat_minor": 2
}
